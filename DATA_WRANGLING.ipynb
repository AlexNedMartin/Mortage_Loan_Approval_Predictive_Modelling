{
 "cells": [
  {
   "cell_type": "markdown",
   "id": "0d579a3f-102b-4c2f-b829-9640feeaf3f8",
   "metadata": {},
   "source": [
    "# Mortgage Loan Approval Capstone Project \n",
    "## Data Wrangling"
   ]
  },
  {
   "cell_type": "markdown",
   "id": "7c8b7288-d516-47cf-af35-1a2112aa813f",
   "metadata": {},
   "source": [
    "<img src=\"https://images.unsplash.com/photo-1560518883-ce09059eeffa?q=80&w=1973&auto=format&fit=crop&ixlib=rb-4.0.3&ixid=M3wxMjA3fDB8MHxwaG90by1wYWdlfHx8fGVufDB8fHx8fA%3D%3D\" width=\"700\">"
   ]
  },
  {
   "cell_type": "markdown",
   "id": "7060225c-7e38-490a-a514-ab1d4f58f426",
   "metadata": {
    "tags": []
   },
   "source": [
    "### Importing the Libraries and Dataset"
   ]
  },
  {
   "cell_type": "code",
   "execution_count": 4,
   "id": "c98edfc2-9ed0-494a-8d19-b4e38d9794a7",
   "metadata": {
    "tags": []
   },
   "outputs": [],
   "source": [
    "import pandas as pd  \n",
    "import numpy as np  \n",
    "import matplotlib.pyplot as plt  \n",
    "import seaborn as sns\n",
    "import matplotlib.colors as mcolors"
   ]
  },
  {
   "cell_type": "code",
   "execution_count": 5,
   "id": "e5b1828a-72be-4f8e-9b63-815fb575f403",
   "metadata": {
    "tags": []
   },
   "outputs": [
    {
     "name": "stderr",
     "output_type": "stream",
     "text": [
      "/var/folders/md/rprl_jf94cx0vvvnxffb9cn00000gn/T/ipykernel_2610/1168179207.py:5: DtypeWarning: Columns (21,22,23,25,26,27,32,37,39,55) have mixed types. Specify dtype option on import or set low_memory=False.\n",
      "  dataframe = pd.read_csv(path)\n"
     ]
    },
    {
     "data": {
      "text/html": [
       "<div>\n",
       "<style scoped>\n",
       "    .dataframe tbody tr th:only-of-type {\n",
       "        vertical-align: middle;\n",
       "    }\n",
       "\n",
       "    .dataframe tbody tr th {\n",
       "        vertical-align: top;\n",
       "    }\n",
       "\n",
       "    .dataframe thead th {\n",
       "        text-align: right;\n",
       "    }\n",
       "</style>\n",
       "<table border=\"1\" class=\"dataframe\">\n",
       "  <thead>\n",
       "    <tr style=\"text-align: right;\">\n",
       "      <th></th>\n",
       "      <th>activity_year</th>\n",
       "      <th>lei</th>\n",
       "      <th>derived_msa-md</th>\n",
       "      <th>state_code</th>\n",
       "      <th>county_code</th>\n",
       "      <th>census_tract</th>\n",
       "      <th>conforming_loan_limit</th>\n",
       "      <th>derived_loan_product_type</th>\n",
       "      <th>derived_dwelling_category</th>\n",
       "      <th>derived_ethnicity</th>\n",
       "      <th>derived_race</th>\n",
       "      <th>derived_sex</th>\n",
       "      <th>action_taken</th>\n",
       "      <th>preapproval</th>\n",
       "      <th>loan_type</th>\n",
       "      <th>loan_purpose</th>\n",
       "      <th>lien_status</th>\n",
       "      <th>reverse_mortgage</th>\n",
       "      <th>open-end_line_of_credit</th>\n",
       "      <th>business_or_commercial_purpose</th>\n",
       "      <th>loan_amount</th>\n",
       "      <th>loan_to_value_ratio</th>\n",
       "      <th>interest_rate</th>\n",
       "      <th>rate_spread</th>\n",
       "      <th>hoepa_status</th>\n",
       "      <th>total_loan_costs</th>\n",
       "      <th>origination_charges</th>\n",
       "      <th>loan_term</th>\n",
       "      <th>negative_amortization</th>\n",
       "      <th>interest_only_payment</th>\n",
       "      <th>balloon_payment</th>\n",
       "      <th>other_nonamortizing_features</th>\n",
       "      <th>property_value</th>\n",
       "      <th>construction_method</th>\n",
       "      <th>occupancy_type</th>\n",
       "      <th>manufactured_home_secured_property_type</th>\n",
       "      <th>manufactured_home_land_property_interest</th>\n",
       "      <th>total_units</th>\n",
       "      <th>income</th>\n",
       "      <th>debt_to_income_ratio</th>\n",
       "      <th>applicant_credit_score_type</th>\n",
       "      <th>co-applicant_credit_score_type</th>\n",
       "      <th>applicant_ethnicity-1</th>\n",
       "      <th>co-applicant_ethnicity-1</th>\n",
       "      <th>applicant_ethnicity_observed</th>\n",
       "      <th>co-applicant_ethnicity_observed</th>\n",
       "      <th>applicant_race-1</th>\n",
       "      <th>co-applicant_race-1</th>\n",
       "      <th>applicant_race_observed</th>\n",
       "      <th>co-applicant_race_observed</th>\n",
       "      <th>applicant_sex</th>\n",
       "      <th>co-applicant_sex</th>\n",
       "      <th>applicant_sex_observed</th>\n",
       "      <th>co-applicant_sex_observed</th>\n",
       "      <th>applicant_age</th>\n",
       "      <th>co-applicant_age</th>\n",
       "      <th>applicant_age_above_62</th>\n",
       "      <th>submission_of_application</th>\n",
       "      <th>initially_payable_to_institution</th>\n",
       "      <th>aus-1</th>\n",
       "      <th>denial_reason-1</th>\n",
       "      <th>tract_population</th>\n",
       "      <th>tract_minority_population_percent</th>\n",
       "      <th>ffiec_msa_md_median_family_income</th>\n",
       "      <th>tract_to_msa_income_percentage</th>\n",
       "      <th>tract_owner_occupied_units</th>\n",
       "      <th>tract_one_to_four_family_homes</th>\n",
       "      <th>tract_median_age_of_housing_units</th>\n",
       "    </tr>\n",
       "  </thead>\n",
       "  <tbody>\n",
       "    <tr>\n",
       "      <th>0</th>\n",
       "      <td>2022</td>\n",
       "      <td>549300QG83M0EX7VC434</td>\n",
       "      <td>99999</td>\n",
       "      <td>WY</td>\n",
       "      <td>56003.0</td>\n",
       "      <td>5.600396e+10</td>\n",
       "      <td>C</td>\n",
       "      <td>Conventional:First Lien</td>\n",
       "      <td>Single Family (1-4 Units):Site-Built</td>\n",
       "      <td>Not Hispanic or Latino</td>\n",
       "      <td>White</td>\n",
       "      <td>Joint</td>\n",
       "      <td>1</td>\n",
       "      <td>2</td>\n",
       "      <td>1</td>\n",
       "      <td>1</td>\n",
       "      <td>1</td>\n",
       "      <td>2</td>\n",
       "      <td>2</td>\n",
       "      <td>1</td>\n",
       "      <td>165000.0</td>\n",
       "      <td>75.0</td>\n",
       "      <td>5.75</td>\n",
       "      <td>NaN</td>\n",
       "      <td>3</td>\n",
       "      <td>NaN</td>\n",
       "      <td>NaN</td>\n",
       "      <td>300</td>\n",
       "      <td>2</td>\n",
       "      <td>2</td>\n",
       "      <td>2</td>\n",
       "      <td>2</td>\n",
       "      <td>225000</td>\n",
       "      <td>1</td>\n",
       "      <td>3</td>\n",
       "      <td>3</td>\n",
       "      <td>5</td>\n",
       "      <td>4</td>\n",
       "      <td>371.0</td>\n",
       "      <td>50%-60%</td>\n",
       "      <td>3</td>\n",
       "      <td>2</td>\n",
       "      <td>2.0</td>\n",
       "      <td>2.0</td>\n",
       "      <td>2</td>\n",
       "      <td>2</td>\n",
       "      <td>5.0</td>\n",
       "      <td>5.0</td>\n",
       "      <td>2</td>\n",
       "      <td>2</td>\n",
       "      <td>1</td>\n",
       "      <td>2</td>\n",
       "      <td>2</td>\n",
       "      <td>2</td>\n",
       "      <td>55-64</td>\n",
       "      <td>55-64</td>\n",
       "      <td>Yes</td>\n",
       "      <td>1</td>\n",
       "      <td>1</td>\n",
       "      <td>6</td>\n",
       "      <td>10</td>\n",
       "      <td>3372</td>\n",
       "      <td>15.95</td>\n",
       "      <td>87600</td>\n",
       "      <td>81</td>\n",
       "      <td>1026</td>\n",
       "      <td>1686</td>\n",
       "      <td>50</td>\n",
       "    </tr>\n",
       "    <tr>\n",
       "      <th>1</th>\n",
       "      <td>2022</td>\n",
       "      <td>549300QG83M0EX7VC434</td>\n",
       "      <td>99999</td>\n",
       "      <td>WY</td>\n",
       "      <td>56029.0</td>\n",
       "      <td>5.602997e+10</td>\n",
       "      <td>C</td>\n",
       "      <td>Conventional:First Lien</td>\n",
       "      <td>Single Family (1-4 Units):Site-Built</td>\n",
       "      <td>Not Hispanic or Latino</td>\n",
       "      <td>White</td>\n",
       "      <td>Male</td>\n",
       "      <td>1</td>\n",
       "      <td>2</td>\n",
       "      <td>1</td>\n",
       "      <td>1</td>\n",
       "      <td>1</td>\n",
       "      <td>2</td>\n",
       "      <td>2</td>\n",
       "      <td>2</td>\n",
       "      <td>325000.0</td>\n",
       "      <td>79.75</td>\n",
       "      <td>5.75</td>\n",
       "      <td>2.49</td>\n",
       "      <td>2</td>\n",
       "      <td>NaN</td>\n",
       "      <td>2422.5</td>\n",
       "      <td>12</td>\n",
       "      <td>2</td>\n",
       "      <td>1</td>\n",
       "      <td>1</td>\n",
       "      <td>2</td>\n",
       "      <td>405000</td>\n",
       "      <td>1</td>\n",
       "      <td>1</td>\n",
       "      <td>3</td>\n",
       "      <td>5</td>\n",
       "      <td>1</td>\n",
       "      <td>62.0</td>\n",
       "      <td>46</td>\n",
       "      <td>1</td>\n",
       "      <td>10</td>\n",
       "      <td>2.0</td>\n",
       "      <td>5.0</td>\n",
       "      <td>2</td>\n",
       "      <td>4</td>\n",
       "      <td>5.0</td>\n",
       "      <td>8.0</td>\n",
       "      <td>2</td>\n",
       "      <td>4</td>\n",
       "      <td>1</td>\n",
       "      <td>5</td>\n",
       "      <td>2</td>\n",
       "      <td>4</td>\n",
       "      <td>55-64</td>\n",
       "      <td>9999</td>\n",
       "      <td>No</td>\n",
       "      <td>1</td>\n",
       "      <td>1</td>\n",
       "      <td>6</td>\n",
       "      <td>10</td>\n",
       "      <td>4183</td>\n",
       "      <td>11.36</td>\n",
       "      <td>87600</td>\n",
       "      <td>95</td>\n",
       "      <td>1233</td>\n",
       "      <td>1830</td>\n",
       "      <td>45</td>\n",
       "    </tr>\n",
       "    <tr>\n",
       "      <th>2</th>\n",
       "      <td>2022</td>\n",
       "      <td>549300QG83M0EX7VC434</td>\n",
       "      <td>99999</td>\n",
       "      <td>WY</td>\n",
       "      <td>56003.0</td>\n",
       "      <td>5.600396e+10</td>\n",
       "      <td>C</td>\n",
       "      <td>Conventional:First Lien</td>\n",
       "      <td>Single Family (1-4 Units):Site-Built</td>\n",
       "      <td>Not Hispanic or Latino</td>\n",
       "      <td>White</td>\n",
       "      <td>Male</td>\n",
       "      <td>1</td>\n",
       "      <td>2</td>\n",
       "      <td>1</td>\n",
       "      <td>1</td>\n",
       "      <td>1</td>\n",
       "      <td>2</td>\n",
       "      <td>2</td>\n",
       "      <td>2</td>\n",
       "      <td>75000.0</td>\n",
       "      <td>62.93</td>\n",
       "      <td>4.75</td>\n",
       "      <td>0.91</td>\n",
       "      <td>2</td>\n",
       "      <td>1585.6</td>\n",
       "      <td>710.0</td>\n",
       "      <td>240</td>\n",
       "      <td>2</td>\n",
       "      <td>2</td>\n",
       "      <td>2</td>\n",
       "      <td>2</td>\n",
       "      <td>115000</td>\n",
       "      <td>1</td>\n",
       "      <td>1</td>\n",
       "      <td>3</td>\n",
       "      <td>5</td>\n",
       "      <td>1</td>\n",
       "      <td>43.0</td>\n",
       "      <td>30%-&lt;36%</td>\n",
       "      <td>3</td>\n",
       "      <td>10</td>\n",
       "      <td>2.0</td>\n",
       "      <td>5.0</td>\n",
       "      <td>2</td>\n",
       "      <td>4</td>\n",
       "      <td>5.0</td>\n",
       "      <td>8.0</td>\n",
       "      <td>2</td>\n",
       "      <td>4</td>\n",
       "      <td>1</td>\n",
       "      <td>5</td>\n",
       "      <td>2</td>\n",
       "      <td>4</td>\n",
       "      <td>45-54</td>\n",
       "      <td>9999</td>\n",
       "      <td>No</td>\n",
       "      <td>1</td>\n",
       "      <td>1</td>\n",
       "      <td>6</td>\n",
       "      <td>10</td>\n",
       "      <td>5662</td>\n",
       "      <td>14.06</td>\n",
       "      <td>87600</td>\n",
       "      <td>89</td>\n",
       "      <td>1389</td>\n",
       "      <td>2238</td>\n",
       "      <td>49</td>\n",
       "    </tr>\n",
       "    <tr>\n",
       "      <th>3</th>\n",
       "      <td>2022</td>\n",
       "      <td>549300QG83M0EX7VC434</td>\n",
       "      <td>99999</td>\n",
       "      <td>WY</td>\n",
       "      <td>56029.0</td>\n",
       "      <td>5.602997e+10</td>\n",
       "      <td>NC</td>\n",
       "      <td>Conventional:First Lien</td>\n",
       "      <td>Single Family (1-4 Units):Site-Built</td>\n",
       "      <td>Not Hispanic or Latino</td>\n",
       "      <td>White</td>\n",
       "      <td>Joint</td>\n",
       "      <td>1</td>\n",
       "      <td>2</td>\n",
       "      <td>1</td>\n",
       "      <td>1</td>\n",
       "      <td>1</td>\n",
       "      <td>2</td>\n",
       "      <td>2</td>\n",
       "      <td>2</td>\n",
       "      <td>725000.0</td>\n",
       "      <td>79.98</td>\n",
       "      <td>5.5</td>\n",
       "      <td>1.0</td>\n",
       "      <td>3</td>\n",
       "      <td>9133.2</td>\n",
       "      <td>7272.0</td>\n",
       "      <td>360</td>\n",
       "      <td>2</td>\n",
       "      <td>2</td>\n",
       "      <td>2</td>\n",
       "      <td>2</td>\n",
       "      <td>905000</td>\n",
       "      <td>1</td>\n",
       "      <td>2</td>\n",
       "      <td>3</td>\n",
       "      <td>5</td>\n",
       "      <td>1</td>\n",
       "      <td>662.0</td>\n",
       "      <td>&lt;20%</td>\n",
       "      <td>1</td>\n",
       "      <td>1</td>\n",
       "      <td>2.0</td>\n",
       "      <td>2.0</td>\n",
       "      <td>2</td>\n",
       "      <td>2</td>\n",
       "      <td>5.0</td>\n",
       "      <td>5.0</td>\n",
       "      <td>2</td>\n",
       "      <td>2</td>\n",
       "      <td>2</td>\n",
       "      <td>1</td>\n",
       "      <td>2</td>\n",
       "      <td>2</td>\n",
       "      <td>55-64</td>\n",
       "      <td>55-64</td>\n",
       "      <td>No</td>\n",
       "      <td>1</td>\n",
       "      <td>1</td>\n",
       "      <td>6</td>\n",
       "      <td>10</td>\n",
       "      <td>4053</td>\n",
       "      <td>7.60</td>\n",
       "      <td>87600</td>\n",
       "      <td>94</td>\n",
       "      <td>1460</td>\n",
       "      <td>2306</td>\n",
       "      <td>38</td>\n",
       "    </tr>\n",
       "    <tr>\n",
       "      <th>4</th>\n",
       "      <td>2022</td>\n",
       "      <td>549300QG83M0EX7VC434</td>\n",
       "      <td>99999</td>\n",
       "      <td>WY</td>\n",
       "      <td>56003.0</td>\n",
       "      <td>5.600396e+10</td>\n",
       "      <td>C</td>\n",
       "      <td>Conventional:First Lien</td>\n",
       "      <td>Single Family (1-4 Units):Site-Built</td>\n",
       "      <td>Not Hispanic or Latino</td>\n",
       "      <td>White</td>\n",
       "      <td>Male</td>\n",
       "      <td>1</td>\n",
       "      <td>2</td>\n",
       "      <td>1</td>\n",
       "      <td>1</td>\n",
       "      <td>1</td>\n",
       "      <td>2</td>\n",
       "      <td>2</td>\n",
       "      <td>1</td>\n",
       "      <td>145000.0</td>\n",
       "      <td>76.92</td>\n",
       "      <td>6.11</td>\n",
       "      <td>NaN</td>\n",
       "      <td>3</td>\n",
       "      <td>NaN</td>\n",
       "      <td>NaN</td>\n",
       "      <td>300</td>\n",
       "      <td>2</td>\n",
       "      <td>2</td>\n",
       "      <td>2</td>\n",
       "      <td>2</td>\n",
       "      <td>185000</td>\n",
       "      <td>1</td>\n",
       "      <td>3</td>\n",
       "      <td>3</td>\n",
       "      <td>5</td>\n",
       "      <td>1</td>\n",
       "      <td>176.0</td>\n",
       "      <td>&lt;20%</td>\n",
       "      <td>1</td>\n",
       "      <td>10</td>\n",
       "      <td>2.0</td>\n",
       "      <td>5.0</td>\n",
       "      <td>2</td>\n",
       "      <td>4</td>\n",
       "      <td>5.0</td>\n",
       "      <td>8.0</td>\n",
       "      <td>2</td>\n",
       "      <td>4</td>\n",
       "      <td>1</td>\n",
       "      <td>5</td>\n",
       "      <td>2</td>\n",
       "      <td>4</td>\n",
       "      <td>45-54</td>\n",
       "      <td>9999</td>\n",
       "      <td>No</td>\n",
       "      <td>1</td>\n",
       "      <td>1</td>\n",
       "      <td>6</td>\n",
       "      <td>10</td>\n",
       "      <td>2487</td>\n",
       "      <td>12.18</td>\n",
       "      <td>87600</td>\n",
       "      <td>75</td>\n",
       "      <td>875</td>\n",
       "      <td>1400</td>\n",
       "      <td>55</td>\n",
       "    </tr>\n",
       "  </tbody>\n",
       "</table>\n",
       "</div>"
      ],
      "text/plain": [
       "   activity_year                   lei  derived_msa-md state_code  \\\n",
       "0           2022  549300QG83M0EX7VC434           99999         WY   \n",
       "1           2022  549300QG83M0EX7VC434           99999         WY   \n",
       "2           2022  549300QG83M0EX7VC434           99999         WY   \n",
       "3           2022  549300QG83M0EX7VC434           99999         WY   \n",
       "4           2022  549300QG83M0EX7VC434           99999         WY   \n",
       "\n",
       "   county_code  census_tract conforming_loan_limit derived_loan_product_type  \\\n",
       "0      56003.0  5.600396e+10                     C   Conventional:First Lien   \n",
       "1      56029.0  5.602997e+10                     C   Conventional:First Lien   \n",
       "2      56003.0  5.600396e+10                     C   Conventional:First Lien   \n",
       "3      56029.0  5.602997e+10                    NC   Conventional:First Lien   \n",
       "4      56003.0  5.600396e+10                     C   Conventional:First Lien   \n",
       "\n",
       "              derived_dwelling_category       derived_ethnicity derived_race  \\\n",
       "0  Single Family (1-4 Units):Site-Built  Not Hispanic or Latino        White   \n",
       "1  Single Family (1-4 Units):Site-Built  Not Hispanic or Latino        White   \n",
       "2  Single Family (1-4 Units):Site-Built  Not Hispanic or Latino        White   \n",
       "3  Single Family (1-4 Units):Site-Built  Not Hispanic or Latino        White   \n",
       "4  Single Family (1-4 Units):Site-Built  Not Hispanic or Latino        White   \n",
       "\n",
       "  derived_sex  action_taken  preapproval  loan_type  loan_purpose  \\\n",
       "0       Joint             1            2          1             1   \n",
       "1        Male             1            2          1             1   \n",
       "2        Male             1            2          1             1   \n",
       "3       Joint             1            2          1             1   \n",
       "4        Male             1            2          1             1   \n",
       "\n",
       "   lien_status  reverse_mortgage  open-end_line_of_credit  \\\n",
       "0            1                 2                        2   \n",
       "1            1                 2                        2   \n",
       "2            1                 2                        2   \n",
       "3            1                 2                        2   \n",
       "4            1                 2                        2   \n",
       "\n",
       "   business_or_commercial_purpose  loan_amount loan_to_value_ratio  \\\n",
       "0                               1     165000.0                75.0   \n",
       "1                               2     325000.0               79.75   \n",
       "2                               2      75000.0               62.93   \n",
       "3                               2     725000.0               79.98   \n",
       "4                               1     145000.0               76.92   \n",
       "\n",
       "  interest_rate rate_spread  hoepa_status total_loan_costs  \\\n",
       "0          5.75         NaN             3              NaN   \n",
       "1          5.75        2.49             2              NaN   \n",
       "2          4.75        0.91             2           1585.6   \n",
       "3           5.5         1.0             3           9133.2   \n",
       "4          6.11         NaN             3              NaN   \n",
       "\n",
       "  origination_charges loan_term  negative_amortization  interest_only_payment  \\\n",
       "0                 NaN       300                      2                      2   \n",
       "1              2422.5        12                      2                      1   \n",
       "2               710.0       240                      2                      2   \n",
       "3              7272.0       360                      2                      2   \n",
       "4                 NaN       300                      2                      2   \n",
       "\n",
       "   balloon_payment  other_nonamortizing_features property_value  \\\n",
       "0                2                             2         225000   \n",
       "1                1                             2         405000   \n",
       "2                2                             2         115000   \n",
       "3                2                             2         905000   \n",
       "4                2                             2         185000   \n",
       "\n",
       "   construction_method  occupancy_type  \\\n",
       "0                    1               3   \n",
       "1                    1               1   \n",
       "2                    1               1   \n",
       "3                    1               2   \n",
       "4                    1               3   \n",
       "\n",
       "   manufactured_home_secured_property_type  \\\n",
       "0                                        3   \n",
       "1                                        3   \n",
       "2                                        3   \n",
       "3                                        3   \n",
       "4                                        3   \n",
       "\n",
       "   manufactured_home_land_property_interest total_units  income  \\\n",
       "0                                         5           4   371.0   \n",
       "1                                         5           1    62.0   \n",
       "2                                         5           1    43.0   \n",
       "3                                         5           1   662.0   \n",
       "4                                         5           1   176.0   \n",
       "\n",
       "  debt_to_income_ratio  applicant_credit_score_type  \\\n",
       "0              50%-60%                            3   \n",
       "1                   46                            1   \n",
       "2             30%-<36%                            3   \n",
       "3                 <20%                            1   \n",
       "4                 <20%                            1   \n",
       "\n",
       "   co-applicant_credit_score_type  applicant_ethnicity-1  \\\n",
       "0                               2                    2.0   \n",
       "1                              10                    2.0   \n",
       "2                              10                    2.0   \n",
       "3                               1                    2.0   \n",
       "4                              10                    2.0   \n",
       "\n",
       "   co-applicant_ethnicity-1  applicant_ethnicity_observed  \\\n",
       "0                       2.0                             2   \n",
       "1                       5.0                             2   \n",
       "2                       5.0                             2   \n",
       "3                       2.0                             2   \n",
       "4                       5.0                             2   \n",
       "\n",
       "   co-applicant_ethnicity_observed  applicant_race-1  co-applicant_race-1  \\\n",
       "0                                2               5.0                  5.0   \n",
       "1                                4               5.0                  8.0   \n",
       "2                                4               5.0                  8.0   \n",
       "3                                2               5.0                  5.0   \n",
       "4                                4               5.0                  8.0   \n",
       "\n",
       "   applicant_race_observed  co-applicant_race_observed  applicant_sex  \\\n",
       "0                        2                           2              1   \n",
       "1                        2                           4              1   \n",
       "2                        2                           4              1   \n",
       "3                        2                           2              2   \n",
       "4                        2                           4              1   \n",
       "\n",
       "   co-applicant_sex  applicant_sex_observed  co-applicant_sex_observed  \\\n",
       "0                 2                       2                          2   \n",
       "1                 5                       2                          4   \n",
       "2                 5                       2                          4   \n",
       "3                 1                       2                          2   \n",
       "4                 5                       2                          4   \n",
       "\n",
       "  applicant_age co-applicant_age applicant_age_above_62  \\\n",
       "0         55-64            55-64                    Yes   \n",
       "1         55-64             9999                     No   \n",
       "2         45-54             9999                     No   \n",
       "3         55-64            55-64                     No   \n",
       "4         45-54             9999                     No   \n",
       "\n",
       "   submission_of_application  initially_payable_to_institution  aus-1  \\\n",
       "0                          1                                 1      6   \n",
       "1                          1                                 1      6   \n",
       "2                          1                                 1      6   \n",
       "3                          1                                 1      6   \n",
       "4                          1                                 1      6   \n",
       "\n",
       "   denial_reason-1  tract_population  tract_minority_population_percent  \\\n",
       "0               10              3372                              15.95   \n",
       "1               10              4183                              11.36   \n",
       "2               10              5662                              14.06   \n",
       "3               10              4053                               7.60   \n",
       "4               10              2487                              12.18   \n",
       "\n",
       "   ffiec_msa_md_median_family_income  tract_to_msa_income_percentage  \\\n",
       "0                              87600                              81   \n",
       "1                              87600                              95   \n",
       "2                              87600                              89   \n",
       "3                              87600                              94   \n",
       "4                              87600                              75   \n",
       "\n",
       "   tract_owner_occupied_units  tract_one_to_four_family_homes  \\\n",
       "0                        1026                            1686   \n",
       "1                        1233                            1830   \n",
       "2                        1389                            2238   \n",
       "3                        1460                            2306   \n",
       "4                         875                            1400   \n",
       "\n",
       "   tract_median_age_of_housing_units  \n",
       "0                                 50  \n",
       "1                                 45  \n",
       "2                                 49  \n",
       "3                                 38  \n",
       "4                                 55  "
      ]
     },
     "execution_count": 5,
     "metadata": {},
     "output_type": "execute_result"
    }
   ],
   "source": [
    "# Set the path \n",
    "path = 'clean_HMDA.csv'\n",
    "\n",
    "# Read the dataframe\n",
    "dataframe = pd.read_csv(path)\n",
    "\n",
    "# Set opition to display all the columns\n",
    "pd.set_option('display.max_columns', None)\n",
    "\n",
    "# Display the first five rows of the dataframe\n",
    "dataframe.head()"
   ]
  },
  {
   "cell_type": "code",
   "execution_count": 6,
   "id": "3e6b64d9-2272-4f06-9937-23d493c23ced",
   "metadata": {
    "tags": []
   },
   "outputs": [
    {
     "data": {
      "text/html": [
       "<div>\n",
       "<style scoped>\n",
       "    .dataframe tbody tr th:only-of-type {\n",
       "        vertical-align: middle;\n",
       "    }\n",
       "\n",
       "    .dataframe tbody tr th {\n",
       "        vertical-align: top;\n",
       "    }\n",
       "\n",
       "    .dataframe thead th {\n",
       "        text-align: right;\n",
       "    }\n",
       "</style>\n",
       "<table border=\"1\" class=\"dataframe\">\n",
       "  <thead>\n",
       "    <tr style=\"text-align: right;\">\n",
       "      <th></th>\n",
       "      <th>activity_year</th>\n",
       "      <th>lei</th>\n",
       "      <th>derived_msa-md</th>\n",
       "      <th>state_code</th>\n",
       "      <th>county_code</th>\n",
       "      <th>census_tract</th>\n",
       "      <th>conforming_loan_limit</th>\n",
       "      <th>derived_loan_product_type</th>\n",
       "      <th>derived_dwelling_category</th>\n",
       "      <th>derived_ethnicity</th>\n",
       "      <th>derived_race</th>\n",
       "      <th>derived_sex</th>\n",
       "      <th>action_taken</th>\n",
       "      <th>preapproval</th>\n",
       "      <th>loan_type</th>\n",
       "      <th>loan_purpose</th>\n",
       "      <th>lien_status</th>\n",
       "      <th>reverse_mortgage</th>\n",
       "      <th>open-end_line_of_credit</th>\n",
       "      <th>business_or_commercial_purpose</th>\n",
       "      <th>loan_amount</th>\n",
       "      <th>loan_to_value_ratio</th>\n",
       "      <th>interest_rate</th>\n",
       "      <th>rate_spread</th>\n",
       "      <th>hoepa_status</th>\n",
       "      <th>total_loan_costs</th>\n",
       "      <th>origination_charges</th>\n",
       "      <th>loan_term</th>\n",
       "      <th>negative_amortization</th>\n",
       "      <th>interest_only_payment</th>\n",
       "      <th>balloon_payment</th>\n",
       "      <th>other_nonamortizing_features</th>\n",
       "      <th>property_value</th>\n",
       "      <th>construction_method</th>\n",
       "      <th>occupancy_type</th>\n",
       "      <th>manufactured_home_secured_property_type</th>\n",
       "      <th>manufactured_home_land_property_interest</th>\n",
       "      <th>total_units</th>\n",
       "      <th>income</th>\n",
       "      <th>debt_to_income_ratio</th>\n",
       "      <th>applicant_credit_score_type</th>\n",
       "      <th>co-applicant_credit_score_type</th>\n",
       "      <th>applicant_ethnicity-1</th>\n",
       "      <th>co-applicant_ethnicity-1</th>\n",
       "      <th>applicant_ethnicity_observed</th>\n",
       "      <th>co-applicant_ethnicity_observed</th>\n",
       "      <th>applicant_race-1</th>\n",
       "      <th>co-applicant_race-1</th>\n",
       "      <th>applicant_race_observed</th>\n",
       "      <th>co-applicant_race_observed</th>\n",
       "      <th>applicant_sex</th>\n",
       "      <th>co-applicant_sex</th>\n",
       "      <th>applicant_sex_observed</th>\n",
       "      <th>co-applicant_sex_observed</th>\n",
       "      <th>applicant_age</th>\n",
       "      <th>co-applicant_age</th>\n",
       "      <th>applicant_age_above_62</th>\n",
       "      <th>submission_of_application</th>\n",
       "      <th>initially_payable_to_institution</th>\n",
       "      <th>aus-1</th>\n",
       "      <th>denial_reason-1</th>\n",
       "      <th>tract_population</th>\n",
       "      <th>tract_minority_population_percent</th>\n",
       "      <th>ffiec_msa_md_median_family_income</th>\n",
       "      <th>tract_to_msa_income_percentage</th>\n",
       "      <th>tract_owner_occupied_units</th>\n",
       "      <th>tract_one_to_four_family_homes</th>\n",
       "      <th>tract_median_age_of_housing_units</th>\n",
       "    </tr>\n",
       "  </thead>\n",
       "  <tbody>\n",
       "    <tr>\n",
       "      <th>5075868</th>\n",
       "      <td>2022</td>\n",
       "      <td>549300QG83M0EX7VC434</td>\n",
       "      <td>99999</td>\n",
       "      <td>WY</td>\n",
       "      <td>56003.0</td>\n",
       "      <td>5.600396e+10</td>\n",
       "      <td>NaN</td>\n",
       "      <td>Conventional:First Lien</td>\n",
       "      <td>Multifamily:Site-Built</td>\n",
       "      <td>Not Hispanic or Latino</td>\n",
       "      <td>White</td>\n",
       "      <td>Joint</td>\n",
       "      <td>1</td>\n",
       "      <td>2</td>\n",
       "      <td>1</td>\n",
       "      <td>1</td>\n",
       "      <td>1</td>\n",
       "      <td>2</td>\n",
       "      <td>2</td>\n",
       "      <td>1</td>\n",
       "      <td>245000.0</td>\n",
       "      <td>75.0</td>\n",
       "      <td>5.75</td>\n",
       "      <td>NaN</td>\n",
       "      <td>3</td>\n",
       "      <td>NaN</td>\n",
       "      <td>NaN</td>\n",
       "      <td>300</td>\n",
       "      <td>2</td>\n",
       "      <td>2</td>\n",
       "      <td>2</td>\n",
       "      <td>2</td>\n",
       "      <td>335000</td>\n",
       "      <td>1</td>\n",
       "      <td>3</td>\n",
       "      <td>3</td>\n",
       "      <td>5</td>\n",
       "      <td>5-24</td>\n",
       "      <td>NaN</td>\n",
       "      <td>NaN</td>\n",
       "      <td>3</td>\n",
       "      <td>2</td>\n",
       "      <td>2.0</td>\n",
       "      <td>2.0</td>\n",
       "      <td>2</td>\n",
       "      <td>2</td>\n",
       "      <td>5.0</td>\n",
       "      <td>5.0</td>\n",
       "      <td>2</td>\n",
       "      <td>2</td>\n",
       "      <td>1</td>\n",
       "      <td>2</td>\n",
       "      <td>2</td>\n",
       "      <td>2</td>\n",
       "      <td>55-64</td>\n",
       "      <td>55-64</td>\n",
       "      <td>Yes</td>\n",
       "      <td>1</td>\n",
       "      <td>1</td>\n",
       "      <td>6</td>\n",
       "      <td>10</td>\n",
       "      <td>2487</td>\n",
       "      <td>12.18</td>\n",
       "      <td>87600</td>\n",
       "      <td>75</td>\n",
       "      <td>875</td>\n",
       "      <td>1400</td>\n",
       "      <td>55</td>\n",
       "    </tr>\n",
       "    <tr>\n",
       "      <th>5075869</th>\n",
       "      <td>2022</td>\n",
       "      <td>549300QG83M0EX7VC434</td>\n",
       "      <td>99999</td>\n",
       "      <td>WY</td>\n",
       "      <td>56003.0</td>\n",
       "      <td>5.600396e+10</td>\n",
       "      <td>NaN</td>\n",
       "      <td>Conventional:First Lien</td>\n",
       "      <td>Multifamily:Site-Built</td>\n",
       "      <td>Not Hispanic or Latino</td>\n",
       "      <td>White</td>\n",
       "      <td>Joint</td>\n",
       "      <td>1</td>\n",
       "      <td>2</td>\n",
       "      <td>1</td>\n",
       "      <td>1</td>\n",
       "      <td>1</td>\n",
       "      <td>2</td>\n",
       "      <td>2</td>\n",
       "      <td>1</td>\n",
       "      <td>365000.0</td>\n",
       "      <td>75.0</td>\n",
       "      <td>5.75</td>\n",
       "      <td>NaN</td>\n",
       "      <td>3</td>\n",
       "      <td>NaN</td>\n",
       "      <td>NaN</td>\n",
       "      <td>300</td>\n",
       "      <td>2</td>\n",
       "      <td>2</td>\n",
       "      <td>2</td>\n",
       "      <td>2</td>\n",
       "      <td>485000</td>\n",
       "      <td>1</td>\n",
       "      <td>3</td>\n",
       "      <td>3</td>\n",
       "      <td>5</td>\n",
       "      <td>5-24</td>\n",
       "      <td>371.0</td>\n",
       "      <td>50%-60%</td>\n",
       "      <td>3</td>\n",
       "      <td>2</td>\n",
       "      <td>2.0</td>\n",
       "      <td>2.0</td>\n",
       "      <td>2</td>\n",
       "      <td>2</td>\n",
       "      <td>5.0</td>\n",
       "      <td>5.0</td>\n",
       "      <td>2</td>\n",
       "      <td>2</td>\n",
       "      <td>1</td>\n",
       "      <td>2</td>\n",
       "      <td>2</td>\n",
       "      <td>2</td>\n",
       "      <td>55-64</td>\n",
       "      <td>55-64</td>\n",
       "      <td>Yes</td>\n",
       "      <td>1</td>\n",
       "      <td>1</td>\n",
       "      <td>6</td>\n",
       "      <td>10</td>\n",
       "      <td>3372</td>\n",
       "      <td>15.95</td>\n",
       "      <td>87600</td>\n",
       "      <td>81</td>\n",
       "      <td>1026</td>\n",
       "      <td>1686</td>\n",
       "      <td>50</td>\n",
       "    </tr>\n",
       "    <tr>\n",
       "      <th>5075870</th>\n",
       "      <td>2022</td>\n",
       "      <td>549300QG83M0EX7VC434</td>\n",
       "      <td>99999</td>\n",
       "      <td>WY</td>\n",
       "      <td>56015.0</td>\n",
       "      <td>5.601596e+10</td>\n",
       "      <td>C</td>\n",
       "      <td>Conventional:First Lien</td>\n",
       "      <td>Single Family (1-4 Units):Site-Built</td>\n",
       "      <td>Not Hispanic or Latino</td>\n",
       "      <td>White</td>\n",
       "      <td>Female</td>\n",
       "      <td>3</td>\n",
       "      <td>2</td>\n",
       "      <td>1</td>\n",
       "      <td>1</td>\n",
       "      <td>1</td>\n",
       "      <td>2</td>\n",
       "      <td>2</td>\n",
       "      <td>2</td>\n",
       "      <td>45000.0</td>\n",
       "      <td>NaN</td>\n",
       "      <td>NaN</td>\n",
       "      <td>NaN</td>\n",
       "      <td>3</td>\n",
       "      <td>NaN</td>\n",
       "      <td>NaN</td>\n",
       "      <td>360</td>\n",
       "      <td>2</td>\n",
       "      <td>2</td>\n",
       "      <td>2</td>\n",
       "      <td>2</td>\n",
       "      <td>NaN</td>\n",
       "      <td>1</td>\n",
       "      <td>1</td>\n",
       "      <td>3</td>\n",
       "      <td>5</td>\n",
       "      <td>1</td>\n",
       "      <td>8.0</td>\n",
       "      <td>NaN</td>\n",
       "      <td>9</td>\n",
       "      <td>9</td>\n",
       "      <td>2.0</td>\n",
       "      <td>2.0</td>\n",
       "      <td>2</td>\n",
       "      <td>2</td>\n",
       "      <td>5.0</td>\n",
       "      <td>5.0</td>\n",
       "      <td>2</td>\n",
       "      <td>2</td>\n",
       "      <td>2</td>\n",
       "      <td>2</td>\n",
       "      <td>2</td>\n",
       "      <td>2</td>\n",
       "      <td>&lt;25</td>\n",
       "      <td>&lt;25</td>\n",
       "      <td>No</td>\n",
       "      <td>1</td>\n",
       "      <td>1</td>\n",
       "      <td>6</td>\n",
       "      <td>9</td>\n",
       "      <td>4580</td>\n",
       "      <td>15.85</td>\n",
       "      <td>87600</td>\n",
       "      <td>79</td>\n",
       "      <td>1258</td>\n",
       "      <td>1700</td>\n",
       "      <td>47</td>\n",
       "    </tr>\n",
       "    <tr>\n",
       "      <th>5075871</th>\n",
       "      <td>2022</td>\n",
       "      <td>549300QG83M0EX7VC434</td>\n",
       "      <td>99999</td>\n",
       "      <td>WY</td>\n",
       "      <td>56005.0</td>\n",
       "      <td>5.600500e+10</td>\n",
       "      <td>C</td>\n",
       "      <td>Conventional:First Lien</td>\n",
       "      <td>Single Family (1-4 Units):Manufactured</td>\n",
       "      <td>Not Hispanic or Latino</td>\n",
       "      <td>White</td>\n",
       "      <td>Female</td>\n",
       "      <td>3</td>\n",
       "      <td>2</td>\n",
       "      <td>1</td>\n",
       "      <td>1</td>\n",
       "      <td>1</td>\n",
       "      <td>2</td>\n",
       "      <td>2</td>\n",
       "      <td>2</td>\n",
       "      <td>105000.0</td>\n",
       "      <td>66.67</td>\n",
       "      <td>NaN</td>\n",
       "      <td>NaN</td>\n",
       "      <td>3</td>\n",
       "      <td>NaN</td>\n",
       "      <td>NaN</td>\n",
       "      <td>300</td>\n",
       "      <td>2</td>\n",
       "      <td>2</td>\n",
       "      <td>2</td>\n",
       "      <td>2</td>\n",
       "      <td>155000</td>\n",
       "      <td>2</td>\n",
       "      <td>1</td>\n",
       "      <td>1</td>\n",
       "      <td>1</td>\n",
       "      <td>1</td>\n",
       "      <td>31.0</td>\n",
       "      <td>&gt;60%</td>\n",
       "      <td>1</td>\n",
       "      <td>10</td>\n",
       "      <td>2.0</td>\n",
       "      <td>5.0</td>\n",
       "      <td>2</td>\n",
       "      <td>4</td>\n",
       "      <td>5.0</td>\n",
       "      <td>8.0</td>\n",
       "      <td>2</td>\n",
       "      <td>4</td>\n",
       "      <td>2</td>\n",
       "      <td>5</td>\n",
       "      <td>2</td>\n",
       "      <td>4</td>\n",
       "      <td>45-54</td>\n",
       "      <td>9999</td>\n",
       "      <td>No</td>\n",
       "      <td>1</td>\n",
       "      <td>1</td>\n",
       "      <td>6</td>\n",
       "      <td>1</td>\n",
       "      <td>6613</td>\n",
       "      <td>15.45</td>\n",
       "      <td>87600</td>\n",
       "      <td>96</td>\n",
       "      <td>1715</td>\n",
       "      <td>2318</td>\n",
       "      <td>23</td>\n",
       "    </tr>\n",
       "    <tr>\n",
       "      <th>5075872</th>\n",
       "      <td>2022</td>\n",
       "      <td>549300QG83M0EX7VC434</td>\n",
       "      <td>99999</td>\n",
       "      <td>WY</td>\n",
       "      <td>56029.0</td>\n",
       "      <td>5.602997e+10</td>\n",
       "      <td>C</td>\n",
       "      <td>Conventional:First Lien</td>\n",
       "      <td>Single Family (1-4 Units):Site-Built</td>\n",
       "      <td>Not Hispanic or Latino</td>\n",
       "      <td>White</td>\n",
       "      <td>Joint</td>\n",
       "      <td>1</td>\n",
       "      <td>2</td>\n",
       "      <td>1</td>\n",
       "      <td>1</td>\n",
       "      <td>1</td>\n",
       "      <td>2</td>\n",
       "      <td>2</td>\n",
       "      <td>2</td>\n",
       "      <td>305000.0</td>\n",
       "      <td>75.0</td>\n",
       "      <td>3.875</td>\n",
       "      <td>0.055</td>\n",
       "      <td>2</td>\n",
       "      <td>5351.1</td>\n",
       "      <td>3470.0</td>\n",
       "      <td>360</td>\n",
       "      <td>2</td>\n",
       "      <td>2</td>\n",
       "      <td>2</td>\n",
       "      <td>2</td>\n",
       "      <td>405000</td>\n",
       "      <td>1</td>\n",
       "      <td>1</td>\n",
       "      <td>3</td>\n",
       "      <td>5</td>\n",
       "      <td>1</td>\n",
       "      <td>66.0</td>\n",
       "      <td>42</td>\n",
       "      <td>2</td>\n",
       "      <td>3</td>\n",
       "      <td>2.0</td>\n",
       "      <td>2.0</td>\n",
       "      <td>2</td>\n",
       "      <td>2</td>\n",
       "      <td>5.0</td>\n",
       "      <td>5.0</td>\n",
       "      <td>2</td>\n",
       "      <td>2</td>\n",
       "      <td>1</td>\n",
       "      <td>2</td>\n",
       "      <td>2</td>\n",
       "      <td>2</td>\n",
       "      <td>25-34</td>\n",
       "      <td>25-34</td>\n",
       "      <td>No</td>\n",
       "      <td>1</td>\n",
       "      <td>1</td>\n",
       "      <td>1</td>\n",
       "      <td>10</td>\n",
       "      <td>2586</td>\n",
       "      <td>8.89</td>\n",
       "      <td>87600</td>\n",
       "      <td>85</td>\n",
       "      <td>784</td>\n",
       "      <td>1247</td>\n",
       "      <td>43</td>\n",
       "    </tr>\n",
       "  </tbody>\n",
       "</table>\n",
       "</div>"
      ],
      "text/plain": [
       "         activity_year                   lei  derived_msa-md state_code  \\\n",
       "5075868           2022  549300QG83M0EX7VC434           99999         WY   \n",
       "5075869           2022  549300QG83M0EX7VC434           99999         WY   \n",
       "5075870           2022  549300QG83M0EX7VC434           99999         WY   \n",
       "5075871           2022  549300QG83M0EX7VC434           99999         WY   \n",
       "5075872           2022  549300QG83M0EX7VC434           99999         WY   \n",
       "\n",
       "         county_code  census_tract conforming_loan_limit  \\\n",
       "5075868      56003.0  5.600396e+10                   NaN   \n",
       "5075869      56003.0  5.600396e+10                   NaN   \n",
       "5075870      56015.0  5.601596e+10                     C   \n",
       "5075871      56005.0  5.600500e+10                     C   \n",
       "5075872      56029.0  5.602997e+10                     C   \n",
       "\n",
       "        derived_loan_product_type               derived_dwelling_category  \\\n",
       "5075868   Conventional:First Lien                  Multifamily:Site-Built   \n",
       "5075869   Conventional:First Lien                  Multifamily:Site-Built   \n",
       "5075870   Conventional:First Lien    Single Family (1-4 Units):Site-Built   \n",
       "5075871   Conventional:First Lien  Single Family (1-4 Units):Manufactured   \n",
       "5075872   Conventional:First Lien    Single Family (1-4 Units):Site-Built   \n",
       "\n",
       "              derived_ethnicity derived_race derived_sex  action_taken  \\\n",
       "5075868  Not Hispanic or Latino        White       Joint             1   \n",
       "5075869  Not Hispanic or Latino        White       Joint             1   \n",
       "5075870  Not Hispanic or Latino        White      Female             3   \n",
       "5075871  Not Hispanic or Latino        White      Female             3   \n",
       "5075872  Not Hispanic or Latino        White       Joint             1   \n",
       "\n",
       "         preapproval  loan_type  loan_purpose  lien_status  reverse_mortgage  \\\n",
       "5075868            2          1             1            1                 2   \n",
       "5075869            2          1             1            1                 2   \n",
       "5075870            2          1             1            1                 2   \n",
       "5075871            2          1             1            1                 2   \n",
       "5075872            2          1             1            1                 2   \n",
       "\n",
       "         open-end_line_of_credit  business_or_commercial_purpose  loan_amount  \\\n",
       "5075868                        2                               1     245000.0   \n",
       "5075869                        2                               1     365000.0   \n",
       "5075870                        2                               2      45000.0   \n",
       "5075871                        2                               2     105000.0   \n",
       "5075872                        2                               2     305000.0   \n",
       "\n",
       "        loan_to_value_ratio interest_rate rate_spread  hoepa_status  \\\n",
       "5075868                75.0          5.75         NaN             3   \n",
       "5075869                75.0          5.75         NaN             3   \n",
       "5075870                 NaN           NaN         NaN             3   \n",
       "5075871               66.67           NaN         NaN             3   \n",
       "5075872                75.0         3.875       0.055             2   \n",
       "\n",
       "        total_loan_costs origination_charges loan_term  negative_amortization  \\\n",
       "5075868              NaN                 NaN       300                      2   \n",
       "5075869              NaN                 NaN       300                      2   \n",
       "5075870              NaN                 NaN       360                      2   \n",
       "5075871              NaN                 NaN       300                      2   \n",
       "5075872           5351.1              3470.0       360                      2   \n",
       "\n",
       "         interest_only_payment  balloon_payment  other_nonamortizing_features  \\\n",
       "5075868                      2                2                             2   \n",
       "5075869                      2                2                             2   \n",
       "5075870                      2                2                             2   \n",
       "5075871                      2                2                             2   \n",
       "5075872                      2                2                             2   \n",
       "\n",
       "        property_value  construction_method  occupancy_type  \\\n",
       "5075868         335000                    1               3   \n",
       "5075869         485000                    1               3   \n",
       "5075870            NaN                    1               1   \n",
       "5075871         155000                    2               1   \n",
       "5075872         405000                    1               1   \n",
       "\n",
       "         manufactured_home_secured_property_type  \\\n",
       "5075868                                        3   \n",
       "5075869                                        3   \n",
       "5075870                                        3   \n",
       "5075871                                        1   \n",
       "5075872                                        3   \n",
       "\n",
       "         manufactured_home_land_property_interest total_units  income  \\\n",
       "5075868                                         5        5-24     NaN   \n",
       "5075869                                         5        5-24   371.0   \n",
       "5075870                                         5           1     8.0   \n",
       "5075871                                         1           1    31.0   \n",
       "5075872                                         5           1    66.0   \n",
       "\n",
       "        debt_to_income_ratio  applicant_credit_score_type  \\\n",
       "5075868                  NaN                            3   \n",
       "5075869              50%-60%                            3   \n",
       "5075870                  NaN                            9   \n",
       "5075871                 >60%                            1   \n",
       "5075872                   42                            2   \n",
       "\n",
       "         co-applicant_credit_score_type  applicant_ethnicity-1  \\\n",
       "5075868                               2                    2.0   \n",
       "5075869                               2                    2.0   \n",
       "5075870                               9                    2.0   \n",
       "5075871                              10                    2.0   \n",
       "5075872                               3                    2.0   \n",
       "\n",
       "         co-applicant_ethnicity-1  applicant_ethnicity_observed  \\\n",
       "5075868                       2.0                             2   \n",
       "5075869                       2.0                             2   \n",
       "5075870                       2.0                             2   \n",
       "5075871                       5.0                             2   \n",
       "5075872                       2.0                             2   \n",
       "\n",
       "         co-applicant_ethnicity_observed  applicant_race-1  \\\n",
       "5075868                                2               5.0   \n",
       "5075869                                2               5.0   \n",
       "5075870                                2               5.0   \n",
       "5075871                                4               5.0   \n",
       "5075872                                2               5.0   \n",
       "\n",
       "         co-applicant_race-1  applicant_race_observed  \\\n",
       "5075868                  5.0                        2   \n",
       "5075869                  5.0                        2   \n",
       "5075870                  5.0                        2   \n",
       "5075871                  8.0                        2   \n",
       "5075872                  5.0                        2   \n",
       "\n",
       "         co-applicant_race_observed  applicant_sex  co-applicant_sex  \\\n",
       "5075868                           2              1                 2   \n",
       "5075869                           2              1                 2   \n",
       "5075870                           2              2                 2   \n",
       "5075871                           4              2                 5   \n",
       "5075872                           2              1                 2   \n",
       "\n",
       "         applicant_sex_observed  co-applicant_sex_observed applicant_age  \\\n",
       "5075868                       2                          2         55-64   \n",
       "5075869                       2                          2         55-64   \n",
       "5075870                       2                          2           <25   \n",
       "5075871                       2                          4         45-54   \n",
       "5075872                       2                          2         25-34   \n",
       "\n",
       "        co-applicant_age applicant_age_above_62  submission_of_application  \\\n",
       "5075868            55-64                    Yes                          1   \n",
       "5075869            55-64                    Yes                          1   \n",
       "5075870              <25                     No                          1   \n",
       "5075871             9999                     No                          1   \n",
       "5075872            25-34                     No                          1   \n",
       "\n",
       "         initially_payable_to_institution  aus-1  denial_reason-1  \\\n",
       "5075868                                 1      6               10   \n",
       "5075869                                 1      6               10   \n",
       "5075870                                 1      6                9   \n",
       "5075871                                 1      6                1   \n",
       "5075872                                 1      1               10   \n",
       "\n",
       "         tract_population  tract_minority_population_percent  \\\n",
       "5075868              2487                              12.18   \n",
       "5075869              3372                              15.95   \n",
       "5075870              4580                              15.85   \n",
       "5075871              6613                              15.45   \n",
       "5075872              2586                               8.89   \n",
       "\n",
       "         ffiec_msa_md_median_family_income  tract_to_msa_income_percentage  \\\n",
       "5075868                              87600                              75   \n",
       "5075869                              87600                              81   \n",
       "5075870                              87600                              79   \n",
       "5075871                              87600                              96   \n",
       "5075872                              87600                              85   \n",
       "\n",
       "         tract_owner_occupied_units  tract_one_to_four_family_homes  \\\n",
       "5075868                         875                            1400   \n",
       "5075869                        1026                            1686   \n",
       "5075870                        1258                            1700   \n",
       "5075871                        1715                            2318   \n",
       "5075872                         784                            1247   \n",
       "\n",
       "         tract_median_age_of_housing_units  \n",
       "5075868                                 55  \n",
       "5075869                                 50  \n",
       "5075870                                 47  \n",
       "5075871                                 23  \n",
       "5075872                                 43  "
      ]
     },
     "execution_count": 6,
     "metadata": {},
     "output_type": "execute_result"
    }
   ],
   "source": [
    "dataframe.tail()"
   ]
  },
  {
   "cell_type": "code",
   "execution_count": 7,
   "id": "02549754-fe0b-4520-90d0-9cfdaab452cb",
   "metadata": {
    "tags": []
   },
   "outputs": [
    {
     "name": "stdout",
     "output_type": "stream",
     "text": [
      "<class 'pandas.core.frame.DataFrame'>\n",
      "RangeIndex: 5075873 entries, 0 to 5075872\n",
      "Data columns (total 68 columns):\n",
      " #   Column                                    Dtype  \n",
      "---  ------                                    -----  \n",
      " 0   activity_year                             int64  \n",
      " 1   lei                                       object \n",
      " 2   derived_msa-md                            int64  \n",
      " 3   state_code                                object \n",
      " 4   county_code                               float64\n",
      " 5   census_tract                              float64\n",
      " 6   conforming_loan_limit                     object \n",
      " 7   derived_loan_product_type                 object \n",
      " 8   derived_dwelling_category                 object \n",
      " 9   derived_ethnicity                         object \n",
      " 10  derived_race                              object \n",
      " 11  derived_sex                               object \n",
      " 12  action_taken                              int64  \n",
      " 13  preapproval                               int64  \n",
      " 14  loan_type                                 int64  \n",
      " 15  loan_purpose                              int64  \n",
      " 16  lien_status                               int64  \n",
      " 17  reverse_mortgage                          int64  \n",
      " 18  open-end_line_of_credit                   int64  \n",
      " 19  business_or_commercial_purpose            int64  \n",
      " 20  loan_amount                               float64\n",
      " 21  loan_to_value_ratio                       object \n",
      " 22  interest_rate                             object \n",
      " 23  rate_spread                               object \n",
      " 24  hoepa_status                              int64  \n",
      " 25  total_loan_costs                          object \n",
      " 26  origination_charges                       object \n",
      " 27  loan_term                                 object \n",
      " 28  negative_amortization                     int64  \n",
      " 29  interest_only_payment                     int64  \n",
      " 30  balloon_payment                           int64  \n",
      " 31  other_nonamortizing_features              int64  \n",
      " 32  property_value                            object \n",
      " 33  construction_method                       int64  \n",
      " 34  occupancy_type                            int64  \n",
      " 35  manufactured_home_secured_property_type   int64  \n",
      " 36  manufactured_home_land_property_interest  int64  \n",
      " 37  total_units                               object \n",
      " 38  income                                    float64\n",
      " 39  debt_to_income_ratio                      object \n",
      " 40  applicant_credit_score_type               int64  \n",
      " 41  co-applicant_credit_score_type            int64  \n",
      " 42  applicant_ethnicity-1                     float64\n",
      " 43  co-applicant_ethnicity-1                  float64\n",
      " 44  applicant_ethnicity_observed              int64  \n",
      " 45  co-applicant_ethnicity_observed           int64  \n",
      " 46  applicant_race-1                          float64\n",
      " 47  co-applicant_race-1                       float64\n",
      " 48  applicant_race_observed                   int64  \n",
      " 49  co-applicant_race_observed                int64  \n",
      " 50  applicant_sex                             int64  \n",
      " 51  co-applicant_sex                          int64  \n",
      " 52  applicant_sex_observed                    int64  \n",
      " 53  co-applicant_sex_observed                 int64  \n",
      " 54  applicant_age                             object \n",
      " 55  co-applicant_age                          object \n",
      " 56  applicant_age_above_62                    object \n",
      " 57  submission_of_application                 int64  \n",
      " 58  initially_payable_to_institution          int64  \n",
      " 59  aus-1                                     int64  \n",
      " 60  denial_reason-1                           int64  \n",
      " 61  tract_population                          int64  \n",
      " 62  tract_minority_population_percent         float64\n",
      " 63  ffiec_msa_md_median_family_income         int64  \n",
      " 64  tract_to_msa_income_percentage            int64  \n",
      " 65  tract_owner_occupied_units                int64  \n",
      " 66  tract_one_to_four_family_homes            int64  \n",
      " 67  tract_median_age_of_housing_units         int64  \n",
      "dtypes: float64(9), int64(39), object(20)\n",
      "memory usage: 2.6+ GB\n"
     ]
    }
   ],
   "source": [
    "dataframe.info()"
   ]
  },
  {
   "cell_type": "code",
   "execution_count": 8,
   "id": "a53e4c24-c0b7-45ea-8267-45e821fa4100",
   "metadata": {
    "tags": []
   },
   "outputs": [
    {
     "data": {
      "text/plain": [
       "(5075873, 68)"
      ]
     },
     "execution_count": 8,
     "metadata": {},
     "output_type": "execute_result"
    }
   ],
   "source": [
    "dataframe.shape"
   ]
  },
  {
   "cell_type": "code",
   "execution_count": 9,
   "id": "4cfaef24-6322-4191-80f7-fa2c87e69fec",
   "metadata": {
    "tags": []
   },
   "outputs": [],
   "source": [
    "# Define a custom color palette\n",
    "colors = [\"#172A3A\", \"#004346\", \"#09BC8A\", \"#74B3CE\", \"#508991\"]\n",
    "\n",
    "# Create a custom color palette\n",
    "custom_palette = sns.color_palette(colors)\n",
    "\n",
    "# Set the custom color palette\n",
    "sns.set_palette(custom_palette)\n",
    "\n",
    "# Create a custom sequential colormap\n",
    "cmap = mcolors.LinearSegmentedColormap.from_list('custom_cmap', colors)"
   ]
  },
  {
   "cell_type": "markdown",
   "id": "509b47c9-58d4-4227-8ff5-20d6f77c9d2b",
   "metadata": {},
   "source": [
    "# DATA WRANGLING"
   ]
  },
  {
   "cell_type": "code",
   "execution_count": 11,
   "id": "ecec4ddc-23e4-4fc7-9597-97bdc29aeec3",
   "metadata": {
    "tags": []
   },
   "outputs": [],
   "source": [
    "# Create copy of the dataframe for cleaning\n",
    "df = dataframe.copy()"
   ]
  },
  {
   "cell_type": "code",
   "execution_count": 12,
   "id": "f6584de9-9d8c-4dc1-af73-1559bf53bbc2",
   "metadata": {
    "tags": []
   },
   "outputs": [],
   "source": [
    "# # Create a sample for computational purposes\n",
    "# df = df.sample(frac=0.05)  # Replace 0.1 with the fraction of rows you want\n"
   ]
  },
  {
   "cell_type": "code",
   "execution_count": 13,
   "id": "bbeba070-ca18-4336-96f0-ecb2f935d75c",
   "metadata": {
    "tags": []
   },
   "outputs": [
    {
     "data": {
      "text/html": [
       "<div>\n",
       "<style scoped>\n",
       "    .dataframe tbody tr th:only-of-type {\n",
       "        vertical-align: middle;\n",
       "    }\n",
       "\n",
       "    .dataframe tbody tr th {\n",
       "        vertical-align: top;\n",
       "    }\n",
       "\n",
       "    .dataframe thead th {\n",
       "        text-align: right;\n",
       "    }\n",
       "</style>\n",
       "<table border=\"1\" class=\"dataframe\">\n",
       "  <thead>\n",
       "    <tr style=\"text-align: right;\">\n",
       "      <th></th>\n",
       "      <th>activity_year</th>\n",
       "      <th>lei</th>\n",
       "      <th>derived_msa-md</th>\n",
       "      <th>state_code</th>\n",
       "      <th>county_code</th>\n",
       "      <th>census_tract</th>\n",
       "      <th>conforming_loan_limit</th>\n",
       "      <th>derived_loan_product_type</th>\n",
       "      <th>derived_dwelling_category</th>\n",
       "      <th>derived_ethnicity</th>\n",
       "      <th>derived_race</th>\n",
       "      <th>derived_sex</th>\n",
       "      <th>action_taken</th>\n",
       "      <th>preapproval</th>\n",
       "      <th>loan_type</th>\n",
       "      <th>loan_purpose</th>\n",
       "      <th>lien_status</th>\n",
       "      <th>reverse_mortgage</th>\n",
       "      <th>open-end_line_of_credit</th>\n",
       "      <th>business_or_commercial_purpose</th>\n",
       "      <th>loan_amount</th>\n",
       "      <th>loan_to_value_ratio</th>\n",
       "      <th>interest_rate</th>\n",
       "      <th>rate_spread</th>\n",
       "      <th>hoepa_status</th>\n",
       "      <th>total_loan_costs</th>\n",
       "      <th>origination_charges</th>\n",
       "      <th>loan_term</th>\n",
       "      <th>negative_amortization</th>\n",
       "      <th>interest_only_payment</th>\n",
       "      <th>balloon_payment</th>\n",
       "      <th>other_nonamortizing_features</th>\n",
       "      <th>property_value</th>\n",
       "      <th>construction_method</th>\n",
       "      <th>occupancy_type</th>\n",
       "      <th>manufactured_home_secured_property_type</th>\n",
       "      <th>manufactured_home_land_property_interest</th>\n",
       "      <th>total_units</th>\n",
       "      <th>income</th>\n",
       "      <th>debt_to_income_ratio</th>\n",
       "      <th>applicant_credit_score_type</th>\n",
       "      <th>co-applicant_credit_score_type</th>\n",
       "      <th>applicant_ethnicity-1</th>\n",
       "      <th>co-applicant_ethnicity-1</th>\n",
       "      <th>applicant_ethnicity_observed</th>\n",
       "      <th>co-applicant_ethnicity_observed</th>\n",
       "      <th>applicant_race-1</th>\n",
       "      <th>co-applicant_race-1</th>\n",
       "      <th>applicant_race_observed</th>\n",
       "      <th>co-applicant_race_observed</th>\n",
       "      <th>applicant_sex</th>\n",
       "      <th>co-applicant_sex</th>\n",
       "      <th>applicant_sex_observed</th>\n",
       "      <th>co-applicant_sex_observed</th>\n",
       "      <th>applicant_age</th>\n",
       "      <th>co-applicant_age</th>\n",
       "      <th>applicant_age_above_62</th>\n",
       "      <th>submission_of_application</th>\n",
       "      <th>initially_payable_to_institution</th>\n",
       "      <th>aus-1</th>\n",
       "      <th>denial_reason-1</th>\n",
       "      <th>tract_population</th>\n",
       "      <th>tract_minority_population_percent</th>\n",
       "      <th>ffiec_msa_md_median_family_income</th>\n",
       "      <th>tract_to_msa_income_percentage</th>\n",
       "      <th>tract_owner_occupied_units</th>\n",
       "      <th>tract_one_to_four_family_homes</th>\n",
       "      <th>tract_median_age_of_housing_units</th>\n",
       "    </tr>\n",
       "  </thead>\n",
       "  <tbody>\n",
       "    <tr>\n",
       "      <th>0</th>\n",
       "      <td>2022</td>\n",
       "      <td>549300QG83M0EX7VC434</td>\n",
       "      <td>99999</td>\n",
       "      <td>WY</td>\n",
       "      <td>56003.0</td>\n",
       "      <td>5.600396e+10</td>\n",
       "      <td>C</td>\n",
       "      <td>Conventional:First Lien</td>\n",
       "      <td>Single Family (1-4 Units):Site-Built</td>\n",
       "      <td>Not Hispanic or Latino</td>\n",
       "      <td>White</td>\n",
       "      <td>Joint</td>\n",
       "      <td>1</td>\n",
       "      <td>2</td>\n",
       "      <td>1</td>\n",
       "      <td>1</td>\n",
       "      <td>1</td>\n",
       "      <td>2</td>\n",
       "      <td>2</td>\n",
       "      <td>1</td>\n",
       "      <td>165000.0</td>\n",
       "      <td>75.0</td>\n",
       "      <td>5.75</td>\n",
       "      <td>NaN</td>\n",
       "      <td>3</td>\n",
       "      <td>NaN</td>\n",
       "      <td>NaN</td>\n",
       "      <td>300</td>\n",
       "      <td>2</td>\n",
       "      <td>2</td>\n",
       "      <td>2</td>\n",
       "      <td>2</td>\n",
       "      <td>225000</td>\n",
       "      <td>1</td>\n",
       "      <td>3</td>\n",
       "      <td>3</td>\n",
       "      <td>5</td>\n",
       "      <td>4</td>\n",
       "      <td>371.0</td>\n",
       "      <td>50%-60%</td>\n",
       "      <td>3</td>\n",
       "      <td>2</td>\n",
       "      <td>2.0</td>\n",
       "      <td>2.0</td>\n",
       "      <td>2</td>\n",
       "      <td>2</td>\n",
       "      <td>5.0</td>\n",
       "      <td>5.0</td>\n",
       "      <td>2</td>\n",
       "      <td>2</td>\n",
       "      <td>1</td>\n",
       "      <td>2</td>\n",
       "      <td>2</td>\n",
       "      <td>2</td>\n",
       "      <td>55-64</td>\n",
       "      <td>55-64</td>\n",
       "      <td>Yes</td>\n",
       "      <td>1</td>\n",
       "      <td>1</td>\n",
       "      <td>6</td>\n",
       "      <td>10</td>\n",
       "      <td>3372</td>\n",
       "      <td>15.95</td>\n",
       "      <td>87600</td>\n",
       "      <td>81</td>\n",
       "      <td>1026</td>\n",
       "      <td>1686</td>\n",
       "      <td>50</td>\n",
       "    </tr>\n",
       "    <tr>\n",
       "      <th>1</th>\n",
       "      <td>2022</td>\n",
       "      <td>549300QG83M0EX7VC434</td>\n",
       "      <td>99999</td>\n",
       "      <td>WY</td>\n",
       "      <td>56029.0</td>\n",
       "      <td>5.602997e+10</td>\n",
       "      <td>C</td>\n",
       "      <td>Conventional:First Lien</td>\n",
       "      <td>Single Family (1-4 Units):Site-Built</td>\n",
       "      <td>Not Hispanic or Latino</td>\n",
       "      <td>White</td>\n",
       "      <td>Male</td>\n",
       "      <td>1</td>\n",
       "      <td>2</td>\n",
       "      <td>1</td>\n",
       "      <td>1</td>\n",
       "      <td>1</td>\n",
       "      <td>2</td>\n",
       "      <td>2</td>\n",
       "      <td>2</td>\n",
       "      <td>325000.0</td>\n",
       "      <td>79.75</td>\n",
       "      <td>5.75</td>\n",
       "      <td>2.49</td>\n",
       "      <td>2</td>\n",
       "      <td>NaN</td>\n",
       "      <td>2422.5</td>\n",
       "      <td>12</td>\n",
       "      <td>2</td>\n",
       "      <td>1</td>\n",
       "      <td>1</td>\n",
       "      <td>2</td>\n",
       "      <td>405000</td>\n",
       "      <td>1</td>\n",
       "      <td>1</td>\n",
       "      <td>3</td>\n",
       "      <td>5</td>\n",
       "      <td>1</td>\n",
       "      <td>62.0</td>\n",
       "      <td>46</td>\n",
       "      <td>1</td>\n",
       "      <td>10</td>\n",
       "      <td>2.0</td>\n",
       "      <td>5.0</td>\n",
       "      <td>2</td>\n",
       "      <td>4</td>\n",
       "      <td>5.0</td>\n",
       "      <td>8.0</td>\n",
       "      <td>2</td>\n",
       "      <td>4</td>\n",
       "      <td>1</td>\n",
       "      <td>5</td>\n",
       "      <td>2</td>\n",
       "      <td>4</td>\n",
       "      <td>55-64</td>\n",
       "      <td>9999</td>\n",
       "      <td>No</td>\n",
       "      <td>1</td>\n",
       "      <td>1</td>\n",
       "      <td>6</td>\n",
       "      <td>10</td>\n",
       "      <td>4183</td>\n",
       "      <td>11.36</td>\n",
       "      <td>87600</td>\n",
       "      <td>95</td>\n",
       "      <td>1233</td>\n",
       "      <td>1830</td>\n",
       "      <td>45</td>\n",
       "    </tr>\n",
       "    <tr>\n",
       "      <th>2</th>\n",
       "      <td>2022</td>\n",
       "      <td>549300QG83M0EX7VC434</td>\n",
       "      <td>99999</td>\n",
       "      <td>WY</td>\n",
       "      <td>56003.0</td>\n",
       "      <td>5.600396e+10</td>\n",
       "      <td>C</td>\n",
       "      <td>Conventional:First Lien</td>\n",
       "      <td>Single Family (1-4 Units):Site-Built</td>\n",
       "      <td>Not Hispanic or Latino</td>\n",
       "      <td>White</td>\n",
       "      <td>Male</td>\n",
       "      <td>1</td>\n",
       "      <td>2</td>\n",
       "      <td>1</td>\n",
       "      <td>1</td>\n",
       "      <td>1</td>\n",
       "      <td>2</td>\n",
       "      <td>2</td>\n",
       "      <td>2</td>\n",
       "      <td>75000.0</td>\n",
       "      <td>62.93</td>\n",
       "      <td>4.75</td>\n",
       "      <td>0.91</td>\n",
       "      <td>2</td>\n",
       "      <td>1585.6</td>\n",
       "      <td>710.0</td>\n",
       "      <td>240</td>\n",
       "      <td>2</td>\n",
       "      <td>2</td>\n",
       "      <td>2</td>\n",
       "      <td>2</td>\n",
       "      <td>115000</td>\n",
       "      <td>1</td>\n",
       "      <td>1</td>\n",
       "      <td>3</td>\n",
       "      <td>5</td>\n",
       "      <td>1</td>\n",
       "      <td>43.0</td>\n",
       "      <td>30%-&lt;36%</td>\n",
       "      <td>3</td>\n",
       "      <td>10</td>\n",
       "      <td>2.0</td>\n",
       "      <td>5.0</td>\n",
       "      <td>2</td>\n",
       "      <td>4</td>\n",
       "      <td>5.0</td>\n",
       "      <td>8.0</td>\n",
       "      <td>2</td>\n",
       "      <td>4</td>\n",
       "      <td>1</td>\n",
       "      <td>5</td>\n",
       "      <td>2</td>\n",
       "      <td>4</td>\n",
       "      <td>45-54</td>\n",
       "      <td>9999</td>\n",
       "      <td>No</td>\n",
       "      <td>1</td>\n",
       "      <td>1</td>\n",
       "      <td>6</td>\n",
       "      <td>10</td>\n",
       "      <td>5662</td>\n",
       "      <td>14.06</td>\n",
       "      <td>87600</td>\n",
       "      <td>89</td>\n",
       "      <td>1389</td>\n",
       "      <td>2238</td>\n",
       "      <td>49</td>\n",
       "    </tr>\n",
       "    <tr>\n",
       "      <th>3</th>\n",
       "      <td>2022</td>\n",
       "      <td>549300QG83M0EX7VC434</td>\n",
       "      <td>99999</td>\n",
       "      <td>WY</td>\n",
       "      <td>56029.0</td>\n",
       "      <td>5.602997e+10</td>\n",
       "      <td>NC</td>\n",
       "      <td>Conventional:First Lien</td>\n",
       "      <td>Single Family (1-4 Units):Site-Built</td>\n",
       "      <td>Not Hispanic or Latino</td>\n",
       "      <td>White</td>\n",
       "      <td>Joint</td>\n",
       "      <td>1</td>\n",
       "      <td>2</td>\n",
       "      <td>1</td>\n",
       "      <td>1</td>\n",
       "      <td>1</td>\n",
       "      <td>2</td>\n",
       "      <td>2</td>\n",
       "      <td>2</td>\n",
       "      <td>725000.0</td>\n",
       "      <td>79.98</td>\n",
       "      <td>5.5</td>\n",
       "      <td>1.0</td>\n",
       "      <td>3</td>\n",
       "      <td>9133.2</td>\n",
       "      <td>7272.0</td>\n",
       "      <td>360</td>\n",
       "      <td>2</td>\n",
       "      <td>2</td>\n",
       "      <td>2</td>\n",
       "      <td>2</td>\n",
       "      <td>905000</td>\n",
       "      <td>1</td>\n",
       "      <td>2</td>\n",
       "      <td>3</td>\n",
       "      <td>5</td>\n",
       "      <td>1</td>\n",
       "      <td>662.0</td>\n",
       "      <td>&lt;20%</td>\n",
       "      <td>1</td>\n",
       "      <td>1</td>\n",
       "      <td>2.0</td>\n",
       "      <td>2.0</td>\n",
       "      <td>2</td>\n",
       "      <td>2</td>\n",
       "      <td>5.0</td>\n",
       "      <td>5.0</td>\n",
       "      <td>2</td>\n",
       "      <td>2</td>\n",
       "      <td>2</td>\n",
       "      <td>1</td>\n",
       "      <td>2</td>\n",
       "      <td>2</td>\n",
       "      <td>55-64</td>\n",
       "      <td>55-64</td>\n",
       "      <td>No</td>\n",
       "      <td>1</td>\n",
       "      <td>1</td>\n",
       "      <td>6</td>\n",
       "      <td>10</td>\n",
       "      <td>4053</td>\n",
       "      <td>7.60</td>\n",
       "      <td>87600</td>\n",
       "      <td>94</td>\n",
       "      <td>1460</td>\n",
       "      <td>2306</td>\n",
       "      <td>38</td>\n",
       "    </tr>\n",
       "    <tr>\n",
       "      <th>4</th>\n",
       "      <td>2022</td>\n",
       "      <td>549300QG83M0EX7VC434</td>\n",
       "      <td>99999</td>\n",
       "      <td>WY</td>\n",
       "      <td>56003.0</td>\n",
       "      <td>5.600396e+10</td>\n",
       "      <td>C</td>\n",
       "      <td>Conventional:First Lien</td>\n",
       "      <td>Single Family (1-4 Units):Site-Built</td>\n",
       "      <td>Not Hispanic or Latino</td>\n",
       "      <td>White</td>\n",
       "      <td>Male</td>\n",
       "      <td>1</td>\n",
       "      <td>2</td>\n",
       "      <td>1</td>\n",
       "      <td>1</td>\n",
       "      <td>1</td>\n",
       "      <td>2</td>\n",
       "      <td>2</td>\n",
       "      <td>1</td>\n",
       "      <td>145000.0</td>\n",
       "      <td>76.92</td>\n",
       "      <td>6.11</td>\n",
       "      <td>NaN</td>\n",
       "      <td>3</td>\n",
       "      <td>NaN</td>\n",
       "      <td>NaN</td>\n",
       "      <td>300</td>\n",
       "      <td>2</td>\n",
       "      <td>2</td>\n",
       "      <td>2</td>\n",
       "      <td>2</td>\n",
       "      <td>185000</td>\n",
       "      <td>1</td>\n",
       "      <td>3</td>\n",
       "      <td>3</td>\n",
       "      <td>5</td>\n",
       "      <td>1</td>\n",
       "      <td>176.0</td>\n",
       "      <td>&lt;20%</td>\n",
       "      <td>1</td>\n",
       "      <td>10</td>\n",
       "      <td>2.0</td>\n",
       "      <td>5.0</td>\n",
       "      <td>2</td>\n",
       "      <td>4</td>\n",
       "      <td>5.0</td>\n",
       "      <td>8.0</td>\n",
       "      <td>2</td>\n",
       "      <td>4</td>\n",
       "      <td>1</td>\n",
       "      <td>5</td>\n",
       "      <td>2</td>\n",
       "      <td>4</td>\n",
       "      <td>45-54</td>\n",
       "      <td>9999</td>\n",
       "      <td>No</td>\n",
       "      <td>1</td>\n",
       "      <td>1</td>\n",
       "      <td>6</td>\n",
       "      <td>10</td>\n",
       "      <td>2487</td>\n",
       "      <td>12.18</td>\n",
       "      <td>87600</td>\n",
       "      <td>75</td>\n",
       "      <td>875</td>\n",
       "      <td>1400</td>\n",
       "      <td>55</td>\n",
       "    </tr>\n",
       "  </tbody>\n",
       "</table>\n",
       "</div>"
      ],
      "text/plain": [
       "   activity_year                   lei  derived_msa-md state_code  \\\n",
       "0           2022  549300QG83M0EX7VC434           99999         WY   \n",
       "1           2022  549300QG83M0EX7VC434           99999         WY   \n",
       "2           2022  549300QG83M0EX7VC434           99999         WY   \n",
       "3           2022  549300QG83M0EX7VC434           99999         WY   \n",
       "4           2022  549300QG83M0EX7VC434           99999         WY   \n",
       "\n",
       "   county_code  census_tract conforming_loan_limit derived_loan_product_type  \\\n",
       "0      56003.0  5.600396e+10                     C   Conventional:First Lien   \n",
       "1      56029.0  5.602997e+10                     C   Conventional:First Lien   \n",
       "2      56003.0  5.600396e+10                     C   Conventional:First Lien   \n",
       "3      56029.0  5.602997e+10                    NC   Conventional:First Lien   \n",
       "4      56003.0  5.600396e+10                     C   Conventional:First Lien   \n",
       "\n",
       "              derived_dwelling_category       derived_ethnicity derived_race  \\\n",
       "0  Single Family (1-4 Units):Site-Built  Not Hispanic or Latino        White   \n",
       "1  Single Family (1-4 Units):Site-Built  Not Hispanic or Latino        White   \n",
       "2  Single Family (1-4 Units):Site-Built  Not Hispanic or Latino        White   \n",
       "3  Single Family (1-4 Units):Site-Built  Not Hispanic or Latino        White   \n",
       "4  Single Family (1-4 Units):Site-Built  Not Hispanic or Latino        White   \n",
       "\n",
       "  derived_sex  action_taken  preapproval  loan_type  loan_purpose  \\\n",
       "0       Joint             1            2          1             1   \n",
       "1        Male             1            2          1             1   \n",
       "2        Male             1            2          1             1   \n",
       "3       Joint             1            2          1             1   \n",
       "4        Male             1            2          1             1   \n",
       "\n",
       "   lien_status  reverse_mortgage  open-end_line_of_credit  \\\n",
       "0            1                 2                        2   \n",
       "1            1                 2                        2   \n",
       "2            1                 2                        2   \n",
       "3            1                 2                        2   \n",
       "4            1                 2                        2   \n",
       "\n",
       "   business_or_commercial_purpose  loan_amount loan_to_value_ratio  \\\n",
       "0                               1     165000.0                75.0   \n",
       "1                               2     325000.0               79.75   \n",
       "2                               2      75000.0               62.93   \n",
       "3                               2     725000.0               79.98   \n",
       "4                               1     145000.0               76.92   \n",
       "\n",
       "  interest_rate rate_spread  hoepa_status total_loan_costs  \\\n",
       "0          5.75         NaN             3              NaN   \n",
       "1          5.75        2.49             2              NaN   \n",
       "2          4.75        0.91             2           1585.6   \n",
       "3           5.5         1.0             3           9133.2   \n",
       "4          6.11         NaN             3              NaN   \n",
       "\n",
       "  origination_charges loan_term  negative_amortization  interest_only_payment  \\\n",
       "0                 NaN       300                      2                      2   \n",
       "1              2422.5        12                      2                      1   \n",
       "2               710.0       240                      2                      2   \n",
       "3              7272.0       360                      2                      2   \n",
       "4                 NaN       300                      2                      2   \n",
       "\n",
       "   balloon_payment  other_nonamortizing_features property_value  \\\n",
       "0                2                             2         225000   \n",
       "1                1                             2         405000   \n",
       "2                2                             2         115000   \n",
       "3                2                             2         905000   \n",
       "4                2                             2         185000   \n",
       "\n",
       "   construction_method  occupancy_type  \\\n",
       "0                    1               3   \n",
       "1                    1               1   \n",
       "2                    1               1   \n",
       "3                    1               2   \n",
       "4                    1               3   \n",
       "\n",
       "   manufactured_home_secured_property_type  \\\n",
       "0                                        3   \n",
       "1                                        3   \n",
       "2                                        3   \n",
       "3                                        3   \n",
       "4                                        3   \n",
       "\n",
       "   manufactured_home_land_property_interest total_units  income  \\\n",
       "0                                         5           4   371.0   \n",
       "1                                         5           1    62.0   \n",
       "2                                         5           1    43.0   \n",
       "3                                         5           1   662.0   \n",
       "4                                         5           1   176.0   \n",
       "\n",
       "  debt_to_income_ratio  applicant_credit_score_type  \\\n",
       "0              50%-60%                            3   \n",
       "1                   46                            1   \n",
       "2             30%-<36%                            3   \n",
       "3                 <20%                            1   \n",
       "4                 <20%                            1   \n",
       "\n",
       "   co-applicant_credit_score_type  applicant_ethnicity-1  \\\n",
       "0                               2                    2.0   \n",
       "1                              10                    2.0   \n",
       "2                              10                    2.0   \n",
       "3                               1                    2.0   \n",
       "4                              10                    2.0   \n",
       "\n",
       "   co-applicant_ethnicity-1  applicant_ethnicity_observed  \\\n",
       "0                       2.0                             2   \n",
       "1                       5.0                             2   \n",
       "2                       5.0                             2   \n",
       "3                       2.0                             2   \n",
       "4                       5.0                             2   \n",
       "\n",
       "   co-applicant_ethnicity_observed  applicant_race-1  co-applicant_race-1  \\\n",
       "0                                2               5.0                  5.0   \n",
       "1                                4               5.0                  8.0   \n",
       "2                                4               5.0                  8.0   \n",
       "3                                2               5.0                  5.0   \n",
       "4                                4               5.0                  8.0   \n",
       "\n",
       "   applicant_race_observed  co-applicant_race_observed  applicant_sex  \\\n",
       "0                        2                           2              1   \n",
       "1                        2                           4              1   \n",
       "2                        2                           4              1   \n",
       "3                        2                           2              2   \n",
       "4                        2                           4              1   \n",
       "\n",
       "   co-applicant_sex  applicant_sex_observed  co-applicant_sex_observed  \\\n",
       "0                 2                       2                          2   \n",
       "1                 5                       2                          4   \n",
       "2                 5                       2                          4   \n",
       "3                 1                       2                          2   \n",
       "4                 5                       2                          4   \n",
       "\n",
       "  applicant_age co-applicant_age applicant_age_above_62  \\\n",
       "0         55-64            55-64                    Yes   \n",
       "1         55-64             9999                     No   \n",
       "2         45-54             9999                     No   \n",
       "3         55-64            55-64                     No   \n",
       "4         45-54             9999                     No   \n",
       "\n",
       "   submission_of_application  initially_payable_to_institution  aus-1  \\\n",
       "0                          1                                 1      6   \n",
       "1                          1                                 1      6   \n",
       "2                          1                                 1      6   \n",
       "3                          1                                 1      6   \n",
       "4                          1                                 1      6   \n",
       "\n",
       "   denial_reason-1  tract_population  tract_minority_population_percent  \\\n",
       "0               10              3372                              15.95   \n",
       "1               10              4183                              11.36   \n",
       "2               10              5662                              14.06   \n",
       "3               10              4053                               7.60   \n",
       "4               10              2487                              12.18   \n",
       "\n",
       "   ffiec_msa_md_median_family_income  tract_to_msa_income_percentage  \\\n",
       "0                              87600                              81   \n",
       "1                              87600                              95   \n",
       "2                              87600                              89   \n",
       "3                              87600                              94   \n",
       "4                              87600                              75   \n",
       "\n",
       "   tract_owner_occupied_units  tract_one_to_four_family_homes  \\\n",
       "0                        1026                            1686   \n",
       "1                        1233                            1830   \n",
       "2                        1389                            2238   \n",
       "3                        1460                            2306   \n",
       "4                         875                            1400   \n",
       "\n",
       "   tract_median_age_of_housing_units  \n",
       "0                                 50  \n",
       "1                                 45  \n",
       "2                                 49  \n",
       "3                                 38  \n",
       "4                                 55  "
      ]
     },
     "execution_count": 13,
     "metadata": {},
     "output_type": "execute_result"
    }
   ],
   "source": [
    "df.head()"
   ]
  },
  {
   "cell_type": "code",
   "execution_count": 14,
   "id": "3866d5ec-c700-40d3-bb7a-7a5fc24967db",
   "metadata": {
    "tags": []
   },
   "outputs": [],
   "source": [
    "# Change the column name of our target variable\n",
    "df.rename(columns={'action_taken': 'outcome'}, inplace=True)\n",
    "\n",
    "# Change the values to 0 and 1 for better interpretability\n",
    "df['outcome'] = df['outcome'].replace({1: 1, 3: 0})\n"
   ]
  },
  {
   "cell_type": "code",
   "execution_count": 15,
   "id": "358f2c96-b1d8-4875-87f2-ac4f4416385c",
   "metadata": {
    "tags": []
   },
   "outputs": [
    {
     "data": {
      "text/plain": [
       "outcome\n",
       "1    85.940527\n",
       "0    14.059473\n",
       "Name: proportion, dtype: float64"
      ]
     },
     "execution_count": 15,
     "metadata": {},
     "output_type": "execute_result"
    }
   ],
   "source": [
    "# Check the balance of our target class\n",
    "df['outcome'].value_counts(normalize=True)*100"
   ]
  },
  {
   "cell_type": "code",
   "execution_count": 16,
   "id": "c131a00f-6d76-4a7c-bd12-11af8a6c99fa",
   "metadata": {
    "tags": []
   },
   "outputs": [
    {
     "data": {
      "text/plain": [
       "total_loan_costs            23.156706\n",
       "origination_charges         22.092889\n",
       "rate_spread                 21.155691\n",
       "interest_rate               14.053681\n",
       "loan_to_value_ratio          7.338107\n",
       "income                       4.223687\n",
       "debt_to_income_ratio         4.223490\n",
       "applicant_age_above_62       2.808719\n",
       "property_value               1.689601\n",
       "census_tract                 1.508706\n",
       "county_code                  0.945355\n",
       "conforming_loan_limit        0.595405\n",
       "loan_term                    0.378260\n",
       "state_code                   0.361632\n",
       "applicant_ethnicity-1        0.030221\n",
       "applicant_race-1             0.012274\n",
       "co-applicant_ethnicity-1     0.009220\n",
       "co-applicant_race-1          0.004137\n",
       "dtype: float64"
      ]
     },
     "execution_count": 16,
     "metadata": {},
     "output_type": "execute_result"
    }
   ],
   "source": [
    "# Look at the remaining null values in more detail\n",
    "null_percentage = df.isnull().sum() / len(df) * 100\n",
    "\n",
    "# Display only the columns with null values\n",
    "null_percentage[null_percentage > 0].sort_values(ascending=False)"
   ]
  },
  {
   "cell_type": "markdown",
   "id": "cc5b08b2-0135-4d83-bc4b-0a4c94b70b24",
   "metadata": {},
   "source": [
    "Observations:\n",
    "* The remaining columns with a high proportion of null values will likely be very important to the target variable. \n",
    "* This will require extra investigation to see replacing values is more appropriate than dropping values."
   ]
  },
  {
   "cell_type": "code",
   "execution_count": 18,
   "id": "7028c11b-794f-4f36-b703-b17bf8d7124e",
   "metadata": {
    "tags": []
   },
   "outputs": [
    {
     "data": {
      "text/plain": [
       "total_loan_costs\n",
       "Exempt      118796\n",
       "0.0          34447\n",
       "0.0          30519\n",
       "500.0         4235\n",
       "200.0         1751\n",
       "             ...  \n",
       "8416.44          1\n",
       "14699.08         1\n",
       "6236.41          1\n",
       "12794.21         1\n",
       "5993.56          1\n",
       "Name: count, Length: 1824192, dtype: int64"
      ]
     },
     "execution_count": 18,
     "metadata": {},
     "output_type": "execute_result"
    }
   ],
   "source": [
    "# Investiage the 7 columns with the most nulls - total_loan_costs\n",
    "df['total_loan_costs'].value_counts()"
   ]
  },
  {
   "cell_type": "code",
   "execution_count": 19,
   "id": "a4643913-2ab4-4cee-a7f7-d6a0a3a67ad5",
   "metadata": {
    "tags": []
   },
   "outputs": [
    {
     "data": {
      "text/plain": [
       "False"
      ]
     },
     "execution_count": 19,
     "metadata": {},
     "output_type": "execute_result"
    }
   ],
   "source": [
    "# Check if exemption equates to a failed mortage application\n",
    "df[df['total_loan_costs'].isin(['Exempt'])]['outcome'].eq(0).all()"
   ]
  },
  {
   "cell_type": "code",
   "execution_count": 20,
   "id": "2371b6b3-88d0-47ee-a9cb-c118dbf462c8",
   "metadata": {
    "tags": []
   },
   "outputs": [
    {
     "data": {
      "text/plain": [
       "origination_charges\n",
       "0.0        248177\n",
       "0.0        173767\n",
       "Exempt     118634\n",
       "995.0       34598\n",
       "1440.0      31481\n",
       "            ...  \n",
       "1819.55         1\n",
       "23065.5         1\n",
       "8279.68         1\n",
       "6539.49         1\n",
       "2196.86         1\n",
       "Name: count, Length: 1020999, dtype: int64"
      ]
     },
     "execution_count": 20,
     "metadata": {},
     "output_type": "execute_result"
    }
   ],
   "source": [
    "# Investiage the 7 columns with the most nulls - origination charges\n",
    "df['origination_charges'].value_counts()"
   ]
  },
  {
   "cell_type": "code",
   "execution_count": 21,
   "id": "558659fa-4b35-417f-ab79-bd7a3c8d5dbc",
   "metadata": {
    "tags": []
   },
   "outputs": [
    {
     "data": {
      "text/plain": [
       "False"
      ]
     },
     "execution_count": 21,
     "metadata": {},
     "output_type": "execute_result"
    }
   ],
   "source": [
    "# Check if exemption equates to a failed mortage application\n",
    "df[df['origination_charges'].isin(['Exempt'])]['outcome'].eq(0).all()"
   ]
  },
  {
   "cell_type": "code",
   "execution_count": 22,
   "id": "14c27c75-4960-4d54-bcf6-fda2dd2e416b",
   "metadata": {
    "tags": []
   },
   "outputs": [
    {
     "data": {
      "text/plain": [
       "rate_spread\n",
       " Exempt     116795\n",
       " 0.0          2974\n",
       " 0.0          2102\n",
       " 0.19         1576\n",
       " 0.38         1506\n",
       "             ...  \n",
       "-0.48263         1\n",
       " 0.21738         1\n",
       " 0.04199         1\n",
       "-0.51771         1\n",
       " -5.056          1\n",
       "Name: count, Length: 102598, dtype: int64"
      ]
     },
     "execution_count": 22,
     "metadata": {},
     "output_type": "execute_result"
    }
   ],
   "source": [
    "# Investiage the 7 columns with the most nulls - rate_spread\n",
    "df['rate_spread'].value_counts()"
   ]
  },
  {
   "cell_type": "code",
   "execution_count": 23,
   "id": "e21836b4-680d-45b1-95b1-7bf75ef572f1",
   "metadata": {
    "tags": []
   },
   "outputs": [
    {
     "data": {
      "text/plain": [
       "False"
      ]
     },
     "execution_count": 23,
     "metadata": {},
     "output_type": "execute_result"
    }
   ],
   "source": [
    "# Check if exemption equates to a failed mortage application\n",
    "df[df['rate_spread'].isin(['Exempt'])]['outcome'].eq(0).all()"
   ]
  },
  {
   "cell_type": "code",
   "execution_count": 24,
   "id": "54499783-f17f-47b0-826e-ddabb27954e7",
   "metadata": {
    "tags": []
   },
   "outputs": [
    {
     "data": {
      "text/plain": [
       "interest_rate\n",
       "Exempt    117660\n",
       "5.25       82938\n",
       "5.625      82802\n",
       "4.75       82524\n",
       "5.25       82515\n",
       "           ...  \n",
       "10.042         1\n",
       "8.459          1\n",
       "8.959          1\n",
       "8.417          1\n",
       "7.313          1\n",
       "Name: count, Length: 11698, dtype: int64"
      ]
     },
     "execution_count": 24,
     "metadata": {},
     "output_type": "execute_result"
    }
   ],
   "source": [
    "# Investiage the 7 columns with the most nulls - interest_rate\n",
    "df['interest_rate'].value_counts()"
   ]
  },
  {
   "cell_type": "code",
   "execution_count": 25,
   "id": "e440928a-3542-464d-a9a8-f798534841c0",
   "metadata": {
    "tags": []
   },
   "outputs": [
    {
     "data": {
      "text/plain": [
       "False"
      ]
     },
     "execution_count": 25,
     "metadata": {},
     "output_type": "execute_result"
    }
   ],
   "source": [
    "# Check if exemption equates to a failed mortage application\n",
    "df[df['interest_rate'].isin(['Exempt'])]['outcome'].eq(0).all()"
   ]
  },
  {
   "cell_type": "code",
   "execution_count": 26,
   "id": "afb59dfc-7348-4515-9a69-1087dcdf2ed8",
   "metadata": {
    "tags": []
   },
   "outputs": [
    {
     "data": {
      "text/plain": [
       "loan_to_value_ratio\n",
       "80.0       375285\n",
       "80.0       371577\n",
       "95.0       286382\n",
       "95.0       245959\n",
       "96.5       234028\n",
       "            ...  \n",
       "63.982          1\n",
       "62.123          1\n",
       "42.851          1\n",
       "44.919          1\n",
       "108.854         1\n",
       "Name: count, Length: 175568, dtype: int64"
      ]
     },
     "execution_count": 26,
     "metadata": {},
     "output_type": "execute_result"
    }
   ],
   "source": [
    "# Investiage the 7 columns with the mst nulls - loan_to_value_ratio\n",
    "df['loan_to_value_ratio'].value_counts()"
   ]
  },
  {
   "cell_type": "code",
   "execution_count": 27,
   "id": "8aa8e52b-e4b1-4ae6-b7cb-dea35adc0d4c",
   "metadata": {
    "tags": []
   },
   "outputs": [
    {
     "data": {
      "text/plain": [
       "False"
      ]
     },
     "execution_count": 27,
     "metadata": {},
     "output_type": "execute_result"
    }
   ],
   "source": [
    "# Check if exemption equates to a failed mortage application\n",
    "df[df['loan_to_value_ratio'].isin(['Exempt'])]['outcome'].eq(0).all()"
   ]
  },
  {
   "cell_type": "code",
   "execution_count": 28,
   "id": "85fb4228-2b4a-4894-952f-3c904b4e0bb3",
   "metadata": {
    "tags": []
   },
   "outputs": [
    {
     "data": {
      "text/plain": [
       "income\n",
       "60.0       50868\n",
       "75.0       46406\n",
       "70.0       45654\n",
       "80.0       44681\n",
       "65.0       44538\n",
       "           ...  \n",
       "3894.0         1\n",
       "5870.0         1\n",
       "57520.0        1\n",
       "18759.0        1\n",
       "11193.0        1\n",
       "Name: count, Length: 6484, dtype: int64"
      ]
     },
     "execution_count": 28,
     "metadata": {},
     "output_type": "execute_result"
    }
   ],
   "source": [
    "# Investiage the 7 columns with the most nulls - income\n",
    "df['income'].value_counts()"
   ]
  },
  {
   "cell_type": "code",
   "execution_count": 29,
   "id": "217d57ae-c316-4682-afcd-e1aae1f4f0d5",
   "metadata": {
    "tags": []
   },
   "outputs": [
    {
     "data": {
      "text/plain": [
       "True"
      ]
     },
     "execution_count": 29,
     "metadata": {},
     "output_type": "execute_result"
    }
   ],
   "source": [
    "# Check if exemption equates to a failed mortage application\n",
    "df[df['income'].isin(['Exempt'])]['outcome'].eq(0).all()"
   ]
  },
  {
   "cell_type": "code",
   "execution_count": 30,
   "id": "726c4b1b-fb29-4baa-8d09-dfbd382f2f1c",
   "metadata": {
    "scrolled": true,
    "tags": []
   },
   "outputs": [
    {
     "data": {
      "text/plain": [
       "debt_to_income_ratio\n",
       "30%-<36%    740952\n",
       "20%-<30%    717991\n",
       "50%-60%     427528\n",
       "<20%        257322\n",
       "49          204205\n",
       "44          202926\n",
       "42          198014\n",
       ">60%        193373\n",
       "43          182582\n",
       "41          182338\n",
       "40          178102\n",
       "39          171186\n",
       "45          162726\n",
       "38          161353\n",
       "48          161186\n",
       "37          154704\n",
       "47          151778\n",
       "46          150193\n",
       "36          145823\n",
       "Exempt      117212\n",
       "Name: count, dtype: int64"
      ]
     },
     "execution_count": 30,
     "metadata": {},
     "output_type": "execute_result"
    }
   ],
   "source": [
    "# Investiage the 7 columns with the most nulls - debt_to_income\n",
    "df['debt_to_income_ratio'].value_counts()"
   ]
  },
  {
   "cell_type": "code",
   "execution_count": 31,
   "id": "ef5f6027-e403-467c-ba16-7b7066defddc",
   "metadata": {
    "scrolled": true,
    "tags": []
   },
   "outputs": [
    {
     "data": {
      "text/plain": [
       "False"
      ]
     },
     "execution_count": 31,
     "metadata": {},
     "output_type": "execute_result"
    }
   ],
   "source": [
    "# Check if exemption equates to a failed mortage\n",
    "df[df['debt_to_income_ratio'].isin(['Exempt'])]['outcome'].eq(0).all()"
   ]
  },
  {
   "cell_type": "code",
   "execution_count": 33,
   "id": "ccb476df-e59d-44bf-a018-cfea2c303098",
   "metadata": {},
   "outputs": [
    {
     "name": "stdout",
     "output_type": "stream",
     "text": [
      "Count of 'Exempt' in the DataFrame: 942042\n"
     ]
    }
   ],
   "source": [
    "# Assuming df is your DataFrame\n",
    "count_exempt = (df == 'Exempt').sum().sum()\n",
    "print(\"Count of 'Exempt' in the DataFrame:\", count_exempt)"
   ]
  },
  {
   "cell_type": "code",
   "execution_count": 39,
   "id": "24270677-a948-425e-95d2-06f1d79398bd",
   "metadata": {},
   "outputs": [
    {
     "data": {
      "text/html": [
       "<div>\n",
       "<style scoped>\n",
       "    .dataframe tbody tr th:only-of-type {\n",
       "        vertical-align: middle;\n",
       "    }\n",
       "\n",
       "    .dataframe tbody tr th {\n",
       "        vertical-align: top;\n",
       "    }\n",
       "\n",
       "    .dataframe thead th {\n",
       "        text-align: right;\n",
       "    }\n",
       "</style>\n",
       "<table border=\"1\" class=\"dataframe\">\n",
       "  <thead>\n",
       "    <tr style=\"text-align: right;\">\n",
       "      <th></th>\n",
       "      <th>Count of \"Exempt\"</th>\n",
       "    </tr>\n",
       "  </thead>\n",
       "  <tbody>\n",
       "    <tr>\n",
       "      <th>0</th>\n",
       "      <td>8547</td>\n",
       "    </tr>\n",
       "  </tbody>\n",
       "</table>\n",
       "</div>"
      ],
      "text/plain": [
       "   Count of \"Exempt\"\n",
       "0               8547"
      ]
     },
     "execution_count": 39,
     "metadata": {},
     "output_type": "execute_result"
    }
   ],
   "source": [
    "import pandas as pd\n",
    "\n",
    "# Assuming df is your DataFrame\n",
    "count_exempt = (df == 8888).sum().sum()\n",
    "\n",
    "# Create a DataFrame to display the count\n",
    "count_df = pd.DataFrame({'Count of \"Exempt\"': [count_exempt]})\n",
    "\n",
    "# Display the table\n",
    "count_df\n"
   ]
  },
  {
   "cell_type": "code",
   "execution_count": 32,
   "id": "d77e8e3b-cd0d-4bd6-a2f3-1ba83cafb6d1",
   "metadata": {
    "tags": []
   },
   "outputs": [
    {
     "data": {
      "text/plain": [
       "total_loan_costs                           2.340405\n",
       "origination_charges                        2.337214\n",
       "property_value                             2.322241\n",
       "interest_rate                              2.318025\n",
       "loan_term                                  2.316055\n",
       "                                             ...   \n",
       "other_nonamortizing_features               0.000000\n",
       "construction_method                        0.000000\n",
       "lei                                        0.000000\n",
       "manufactured_home_secured_property_type    0.000000\n",
       "tract_median_age_of_housing_units          0.000000\n",
       "Length: 68, dtype: float64"
      ]
     },
     "execution_count": 32,
     "metadata": {},
     "output_type": "execute_result"
    }
   ],
   "source": [
    "# Chek how often 'exempt occurs in the data as a percentage\n",
    "Exempt_occurences = (df.isin(['Exempt']).sum())/len(df)*100\n",
    "Exempt_occurences.sort_values(ascending=False)"
   ]
  },
  {
   "cell_type": "markdown",
   "id": "a0f31566-1f7e-4c11-80c7-e05713488f9c",
   "metadata": {},
   "source": [
    "Observations:\n",
    "* The are several cases where the data is recoreded as 'exempt'.\n",
    "* This is missing data that will not add any meaningful information to the dataset. \n",
    "* In the affected columns, 'exempt' is present in less than 3% of the rows.\n",
    "* This 'exempt' data will not allow us to draw any insights or see the extent to which it has an effect of the target variable. \n",
    "* To be 'exempt' for giving crucial data sucha as income suggest the data relates to some deliberate hiding of inofrmation. To determine why is beyond the scope of this anlaysis. Therefore i will drop the rows containing 'exempt'.\n",
    "* According to the data dictionary, 'exempt' is also presnt in the numerical columns as '1111' so i will check for this."
   ]
  },
  {
   "cell_type": "code",
   "execution_count": 34,
   "id": "88b8460a-227c-4131-843f-23a91da55fc1",
   "metadata": {
    "tags": []
   },
   "outputs": [
    {
     "data": {
      "text/plain": [
       "aus-1                                2.350985\n",
       "interest_only_payment                2.330456\n",
       "balloon_payment                      2.330456\n",
       "other_nonamortizing_features         2.330456\n",
       "negative_amortization                2.330456\n",
       "                                       ...   \n",
       "loan_term                            0.000000\n",
       "property_value                       0.000000\n",
       "construction_method                  0.000000\n",
       "lei                                  0.000000\n",
       "tract_median_age_of_housing_units    0.000000\n",
       "Length: 68, dtype: float64"
      ]
     },
     "execution_count": 34,
     "metadata": {},
     "output_type": "execute_result"
    }
   ],
   "source": [
    "# Chek how often 'exempt' occurs in the data as a percentage\n",
    "Exempt_occurences = (df.isin([1111]).sum())/len(df)*100\n",
    "Exempt_occurences.sort_values(ascending=False)"
   ]
  },
  {
   "cell_type": "code",
   "execution_count": 35,
   "id": "0555ffb9-9fde-4833-962d-b0df14ece0ba",
   "metadata": {
    "tags": []
   },
   "outputs": [],
   "source": [
    "# Create a boolean mask where 'Exempt' appears\n",
    "mask = df.isin(['Exempt'])\n",
    "\n",
    "# Identify rows where 'Exempt' appears\n",
    "rows_with_exempt = mask.any(axis=1)\n",
    "\n",
    "# Drop the rows with 'Exempt\n",
    "df = df[~rows_with_exempt]"
   ]
  },
  {
   "cell_type": "code",
   "execution_count": 36,
   "id": "5343d8c3-2f0a-49dd-919f-972040af7934",
   "metadata": {
    "tags": []
   },
   "outputs": [],
   "source": [
    "# Columns with 1111\n",
    "columns_to_check = ['denial_reason-1', \n",
    "                    'business_or_commercial_purpose', \n",
    "                    'negative_amortization', \n",
    "                    'balloon_payment', \n",
    "                    'interest_only_payment', \n",
    "                    'reverse_mortgage', \n",
    "                    'submission_of_application', \n",
    "                    'co-applicant_credit_score_type']\n"
   ]
  },
  {
   "cell_type": "code",
   "execution_count": 37,
   "id": "521cca8e-0320-45e1-8d67-9dd1d1ace534",
   "metadata": {
    "tags": []
   },
   "outputs": [],
   "source": [
    "# Create a boolean mask for rows containing 1111 in the specified columns\n",
    "mask = df[columns_to_check].eq(1111).any(axis=1)\n",
    "\n",
    "# Drop rows with 1111 in the specified columns\n",
    "df = df[~mask]"
   ]
  },
  {
   "cell_type": "code",
   "execution_count": 38,
   "id": "9fe9712b-c3e3-4984-aebd-6f3de00aa9e3",
   "metadata": {
    "tags": []
   },
   "outputs": [
    {
     "data": {
      "text/plain": [
       "tract_owner_occupied_units           0.095841\n",
       "tract_one_to_four_family_homes       0.051931\n",
       "county_code                          0.007113\n",
       "aus-1                                0.003758\n",
       "income                               0.000707\n",
       "                                       ...   \n",
       "interest_only_payment                0.000000\n",
       "balloon_payment                      0.000000\n",
       "other_nonamortizing_features         0.000000\n",
       "property_value                       0.000000\n",
       "tract_median_age_of_housing_units    0.000000\n",
       "Length: 68, dtype: float64"
      ]
     },
     "execution_count": 38,
     "metadata": {},
     "output_type": "execute_result"
    }
   ],
   "source": [
    "# Chek how often 'exempt occurs in the data as a percentage\n",
    "Exempt_occurences = (df.isin([1111]).sum())/len(df)*100\n",
    "Exempt_occurences.sort_values(ascending=False)"
   ]
  },
  {
   "cell_type": "code",
   "execution_count": 39,
   "id": "f5be0a3a-551e-427b-a66b-e9b2a00a5308",
   "metadata": {
    "tags": []
   },
   "outputs": [
    {
     "data": {
      "text/plain": [
       "outcome                              702956\n",
       "tract_median_age_of_housing_units    279472\n",
       "origination_charges                  248177\n",
       "tract_to_msa_income_percentage        93538\n",
       "tract_one_to_four_family_homes        69746\n",
       "tract_owner_occupied_units            68735\n",
       "tract_minority_population_percent     67089\n",
       "tract_population                      67068\n",
       "derived_msa-md                        38251\n",
       "ffiec_msa_md_median_family_income     38251\n",
       "total_loan_costs                      34447\n",
       "income                                29535\n",
       "interest_rate                         16068\n",
       "rate_spread                            2102\n",
       "dtype: int64"
      ]
     },
     "execution_count": 39,
     "metadata": {},
     "output_type": "execute_result"
    }
   ],
   "source": [
    "# Check for missing data, where value = 0\n",
    "zero_values = (df == 0).sum().sort_values(ascending=False)\n",
    "\n",
    "# Display only the columsn with 0 values\n",
    "zero_values[zero_values > 0].sort_values(ascending=False)"
   ]
  },
  {
   "cell_type": "markdown",
   "id": "1b74c958-252b-4fad-bdec-d928b0ba9ad7",
   "metadata": {},
   "source": [
    "<u>Observations:</u>\n",
    "* tract_median_age_of_housing_units,tract_to_msa_income_percentage, tract_one_to_four_family_homes, tract_owner_occupied_units,tract_minority_population_percent, tract_population, ffiec_msa_md_median_family_income: These all comprise of cenus data that was appended to the dataset. I will drop these as they weren't recorded factors in mortgage loan approval process. Outcome: Drop\n",
    "\n",
    "* origination_charges: According to the data dictionary, this is the total of all itemized amounts, in dollars, that are designated borrower-paid at or before closing. Although unlikely, it is possible there are no costs attached. Outcome: Keep\n",
    "\n",
    "* total_loan_costs: Sometimes for promotional purposes, there are no costs associated with taking out a loan. Outome: Keep\n",
    "\n",
    "* income: whilst unlikely, it is possible an entity applied for a mortage without an income. I would expect them to be denied. Outcome: Keep\n",
    "\n",
    "* interest_rate: also unlikely, however zero intersts are exceptionally rare, it is not entirely impossible. Outcome: Keep\n",
    "\n",
    "* rate_spread: According to the data dictionary, it is the difference between the covered loan’s annual percentage rate (APR) and the average prime offer rate (APOR) for a comparable transaction as of the date the interest rate is set. As such it is possible to be 0. Outcome: Keep"
   ]
  },
  {
   "cell_type": "code",
   "execution_count": 41,
   "id": "2e97a31d-cd2d-447f-b838-dfa480641a7e",
   "metadata": {
    "tags": []
   },
   "outputs": [],
   "source": [
    "columns_to_drop = ['tract_median_age_of_housing_units', 'tract_to_msa_income_percentage', 'tract_one_to_four_family_homes', 'tract_owner_occupied_units', \n",
    "                  'tract_minority_population_percent', 'tract_population', 'ffiec_msa_md_median_family_income'\n",
    "                 ]"
   ]
  },
  {
   "cell_type": "code",
   "execution_count": 42,
   "id": "2b202e88-d4de-4cb9-bad3-7903e1495935",
   "metadata": {
    "tags": []
   },
   "outputs": [
    {
     "data": {
      "text/plain": [
       "Index(['activity_year', 'loan_purpose'], dtype='object')"
      ]
     },
     "execution_count": 42,
     "metadata": {},
     "output_type": "execute_result"
    }
   ],
   "source": [
    "# Check if any columns only contains one unique value\n",
    "df.columns[df.nunique()==1]"
   ]
  },
  {
   "cell_type": "markdown",
   "id": "27461129-e550-4479-8c9c-aaf074ff5b06",
   "metadata": {},
   "source": [
    "Observation:\n",
    "* These columns only contain one unique value.\n",
    "* As a result, they do not add anything meaningful to the anlaysis.\n",
    "* Furthrmore they add addtional dimensoonality which is computationals costly, so will be dropped."
   ]
  },
  {
   "cell_type": "code",
   "execution_count": 44,
   "id": "5b5161b8-5e85-4a69-868b-074b3f79d091",
   "metadata": {
    "tags": []
   },
   "outputs": [],
   "source": [
    "# Add the columns to the columns_to_drop list\n",
    "columns_to_drop.extend(['activity_year', 'loan_purpose'])"
   ]
  },
  {
   "cell_type": "code",
   "execution_count": 45,
   "id": "aa8c5dc3-6b4b-4899-9a44-10655bd0ba49",
   "metadata": {
    "tags": []
   },
   "outputs": [],
   "source": [
    "# Drop the columns with too missing values/only one value\n",
    "df.drop(columns=columns_to_drop, inplace=True)"
   ]
  },
  {
   "cell_type": "code",
   "execution_count": 46,
   "id": "e35a3636-0d41-4e5f-a54c-18df85fbf93b",
   "metadata": {
    "tags": []
   },
   "outputs": [
    {
     "data": {
      "text/plain": [
       "(4948833, 59)"
      ]
     },
     "execution_count": 46,
     "metadata": {},
     "output_type": "execute_result"
    }
   ],
   "source": [
    "# Check the columns have been dropped\n",
    "df.shape"
   ]
  },
  {
   "cell_type": "markdown",
   "id": "65fce4de-d270-46e4-8e0a-2939b1e666c5",
   "metadata": {},
   "source": [
    "We have now removed 40 columns which have no value and lots of nulls.\n",
    "it is still quiet a large dataset so we will check to see what columns can be dropped due to a lack of relevant information"
   ]
  },
  {
   "cell_type": "code",
   "execution_count": 48,
   "id": "2a02fe3b-9101-46db-9346-46f1facdec38",
   "metadata": {
    "tags": []
   },
   "outputs": [
    {
     "data": {
      "text/plain": [
       "Index(['lei', 'derived_msa-md', 'state_code', 'county_code', 'census_tract',\n",
       "       'conforming_loan_limit', 'derived_loan_product_type',\n",
       "       'derived_dwelling_category', 'derived_ethnicity', 'derived_race',\n",
       "       'derived_sex', 'outcome', 'preapproval', 'loan_type', 'lien_status',\n",
       "       'reverse_mortgage', 'open-end_line_of_credit',\n",
       "       'business_or_commercial_purpose', 'loan_amount', 'loan_to_value_ratio',\n",
       "       'interest_rate', 'rate_spread', 'hoepa_status', 'total_loan_costs',\n",
       "       'origination_charges', 'loan_term', 'negative_amortization',\n",
       "       'interest_only_payment', 'balloon_payment',\n",
       "       'other_nonamortizing_features', 'property_value', 'construction_method',\n",
       "       'occupancy_type', 'manufactured_home_secured_property_type',\n",
       "       'manufactured_home_land_property_interest', 'total_units', 'income',\n",
       "       'debt_to_income_ratio', 'applicant_credit_score_type',\n",
       "       'co-applicant_credit_score_type', 'applicant_ethnicity-1',\n",
       "       'co-applicant_ethnicity-1', 'applicant_ethnicity_observed',\n",
       "       'co-applicant_ethnicity_observed', 'applicant_race-1',\n",
       "       'co-applicant_race-1', 'applicant_race_observed',\n",
       "       'co-applicant_race_observed', 'applicant_sex', 'co-applicant_sex',\n",
       "       'applicant_sex_observed', 'co-applicant_sex_observed', 'applicant_age',\n",
       "       'co-applicant_age', 'applicant_age_above_62',\n",
       "       'submission_of_application', 'initially_payable_to_institution',\n",
       "       'aus-1', 'denial_reason-1'],\n",
       "      dtype='object')"
      ]
     },
     "execution_count": 48,
     "metadata": {},
     "output_type": "execute_result"
    }
   ],
   "source": [
    "# Further dimensionality reduction\n",
    "df.columns"
   ]
  },
  {
   "cell_type": "markdown",
   "id": "1c0cd23d-fc53-406c-9fdd-8cb77bda8ec0",
   "metadata": {},
   "source": [
    "I consulted the data dictionary to see if any further columns could be dropped:\n",
    "* 'lei': According to the data dictionary is  'A financial institution’s Legal Entity Identifier' - Decision: Drop\n",
    "\n",
    "* 'derived_msa-md: \"The 5 digit derived MSA (metropolitan statistical area) or MD (metropolitan division) code. An MSA/MD is an area that has at least one urbanized area of 50,000 or more population\" - Decision: Drop\n",
    "* 'state_code': \n",
    "* 'county_code': \n",
    "* 'census_tract': \"11 digit census tract number\" - Decsion: Drop\n",
    "* 'conforming_loan_limit':\n",
    "* 'derived_loan_product_type':\n",
    "* 'derived_dwelling_category':\n",
    "* 'preapproval': The aim for my function is to provide indication of pre approval so i don't need this columns\n",
    "* 'lein_status':\n",
    "* 'open-end_line_of_credit': This tyoe of credit does not constitue a mortgage so should be removed from the data. Decsion: Drop\n",
    "* 'other_nonamortizing_features'\n",
    "* 'construction_method'\n",
    "* 'manufactured_home_secured_property_type'\n",
    "* 'manufactured_home_land_property_interest'\n",
    "* 'applicant_ethnicity-1','co-applicant_ethnicity-1', 'applicant_ethnicity_observed', 'co-applicant_ethnicity_observed': These columns have been aggreagted in 'derived_ethnicity' so can dropped.\n",
    "* 'applicant_race-1', 'co-applicant_race-1', 'applicant_race_observed', 'co-applicant_race_observed': These columns have already been aggregated in 'derived_race' so can be dropped.\n",
    "* 'applicant_sex', 'co-applicant_sex','applicant_sex_observed', 'co-applicant_sex_observed': These columns have already been aggregated in 'derived_sex' so can be dropped.\n",
    "* 'applicant_age_above_62': This is already captured in 'applicant_age'* 'aus-1': \"The automated underwriting system(s) (AUS) used by the financial institution to evaluate the application\" - Decsion: Drop\n",
    "* initially_payable_to_institution:\n",
    "* aus-1\n"
   ]
  },
  {
   "cell_type": "code",
   "execution_count": 50,
   "id": "595133e5-498d-497b-886b-33d130ee77b4",
   "metadata": {
    "tags": []
   },
   "outputs": [],
   "source": [
    "# Initialise a list of more columns to drop\n",
    "more_to_drop = ['lei',\n",
    "                'derived_msa-md',\n",
    "                'state_code', \n",
    "                'county_code', \n",
    "                'census_tract',\n",
    "                'conforming_loan_limit',\n",
    "                'derived_loan_product_type',\n",
    "                'derived_dwelling_category',\n",
    "                'lien_status',\n",
    "                'open-end_line_of_credit',\n",
    "                'other_nonamortizing_features',\n",
    "                'construction_method',\n",
    "                'manufactured_home_secured_property_type',\n",
    "                'manufactured_home_land_property_interest',\n",
    "                'applicant_ethnicity-1',\n",
    "                'co-applicant_ethnicity-1', \n",
    "                'applicant_ethnicity_observed', \n",
    "                'co-applicant_ethnicity_observed',\n",
    "                'applicant_race-1', \n",
    "                'co-applicant_race-1', \n",
    "                'applicant_race_observed',\n",
    "                'co-applicant_race_observed',\n",
    "                'applicant_sex', \n",
    "                'co-applicant_sex',\n",
    "                'applicant_sex_observed',\n",
    "                'co-applicant_sex_observed',\n",
    "                'applicant_age_above_62',\n",
    "                'initially_payable_to_institution',\n",
    "                'aus-1'\n",
    "               ]"
   ]
  },
  {
   "cell_type": "code",
   "execution_count": 51,
   "id": "befabd0d-899a-4e87-981b-4619da2f091a",
   "metadata": {
    "tags": []
   },
   "outputs": [],
   "source": [
    "# Drop the additonal columns\n",
    "df.drop(columns=more_to_drop, inplace=True)"
   ]
  },
  {
   "cell_type": "code",
   "execution_count": 52,
   "id": "80512e48-78d6-4854-9d74-5961750d7b15",
   "metadata": {
    "tags": []
   },
   "outputs": [
    {
     "data": {
      "text/plain": [
       "(4948833, 30)"
      ]
     },
     "execution_count": 52,
     "metadata": {},
     "output_type": "execute_result"
    }
   ],
   "source": [
    "# Check the shape of the remaining data\n",
    "df.shape"
   ]
  },
  {
   "cell_type": "code",
   "execution_count": 53,
   "id": "cc08168c-a168-4f6e-b042-7985773eb794",
   "metadata": {
    "tags": []
   },
   "outputs": [
    {
     "data": {
      "text/plain": [
       "total_loan_costs        23.586672\n",
       "origination_charges     22.493505\n",
       "rate_spread             21.527176\n",
       "interest_rate           14.393252\n",
       "loan_to_value_ratio      7.499202\n",
       "debt_to_income_ratio     4.167427\n",
       "income                   3.622349\n",
       "property_value           1.695066\n",
       "loan_term                0.370390\n",
       "dtype: float64"
      ]
     },
     "execution_count": 53,
     "metadata": {},
     "output_type": "execute_result"
    }
   ],
   "source": [
    "# Calculate the percentage of null values in each column\n",
    "# Display only the columsn with nll values\n",
    "null_percentage = df.isnull().sum() / len(df) * 100\n",
    "null_percentage[null_percentage > 0].sort_values(ascending=False)"
   ]
  },
  {
   "cell_type": "markdown",
   "id": "388a1f83-dd14-4b53-b4c3-3b8c23078062",
   "metadata": {
    "tags": []
   },
   "source": [
    "We must now investiage the null values further"
   ]
  },
  {
   "cell_type": "code",
   "execution_count": 55,
   "id": "8f632911-6a6e-4e90-a616-7052f8bdd0d7",
   "metadata": {
    "tags": []
   },
   "outputs": [
    {
     "name": "stdout",
     "output_type": "stream",
     "text": [
      "23381\n"
     ]
    }
   ],
   "source": [
    "# Count the number of rows where 'income' is null and 'action_taken' is 3\n",
    "count = df[(df['income'].isnull()) & (df['outcome'] == 0)].shape[0]\n",
    "print(count)"
   ]
  },
  {
   "cell_type": "code",
   "execution_count": 56,
   "id": "fef2bfaa-b48b-4817-a1d5-38207963547c",
   "metadata": {
    "tags": []
   },
   "outputs": [
    {
     "data": {
      "text/plain": [
       "outcome\n",
       "1    4245877\n",
       "0     702956\n",
       "Name: count, dtype: int64"
      ]
     },
     "execution_count": 56,
     "metadata": {},
     "output_type": "execute_result"
    }
   ],
   "source": [
    "df['outcome'].value_counts()"
   ]
  },
  {
   "cell_type": "code",
   "execution_count": 57,
   "id": "a51b9a58-8d15-4c41-a0e5-1db5da3a6966",
   "metadata": {
    "tags": []
   },
   "outputs": [
    {
     "data": {
      "text/plain": [
       "702956"
      ]
     },
     "execution_count": 57,
     "metadata": {},
     "output_type": "execute_result"
    }
   ],
   "source": [
    "# Count the number of rows where 'total_loan_costs' is null and 'action_taken' is 3\n",
    "df[(df['total_loan_costs'].isnull()) & (df['outcome'] == 0)].shape[0]"
   ]
  },
  {
   "cell_type": "code",
   "execution_count": 58,
   "id": "1d514edf-92e7-43ff-b68a-285ca68d853a",
   "metadata": {
    "tags": []
   },
   "outputs": [
    {
     "data": {
      "text/plain": [
       "False"
      ]
     },
     "execution_count": 58,
     "metadata": {},
     "output_type": "execute_result"
    }
   ],
   "source": [
    "# Check if all the null values in 'total_loan_costs\" column equate to a mortgage application rejection\n",
    "df[df['total_loan_costs'].isnull()]['outcome'].eq(0).all()"
   ]
  },
  {
   "cell_type": "code",
   "execution_count": 59,
   "id": "065d3a3f-2cb6-4355-b5ff-75e73e44a198",
   "metadata": {
    "tags": []
   },
   "outputs": [
    {
     "name": "stdout",
     "output_type": "stream",
     "text": [
      "702956\n"
     ]
    }
   ],
   "source": [
    "# Count the number of rows where 'income' is null and 'action_taken' is 3\n",
    "count = df[(df['origination_charges'].isnull()) & (df['outcome'] == 0)].shape[0]\n",
    "print(count)"
   ]
  },
  {
   "cell_type": "code",
   "execution_count": 60,
   "id": "b332818e-1610-4670-b651-c014d26fc31c",
   "metadata": {
    "tags": []
   },
   "outputs": [
    {
     "data": {
      "text/plain": [
       "False"
      ]
     },
     "execution_count": 60,
     "metadata": {},
     "output_type": "execute_result"
    }
   ],
   "source": [
    "# Check if all the null values in 'origination_charges' equate to  failed mortage application\n",
    "df[df['origination_charges'].isnull()]['outcome'].eq(0).all()"
   ]
  },
  {
   "cell_type": "code",
   "execution_count": 61,
   "id": "2e7df4ae-2d62-4f34-8bed-7ef030a368a2",
   "metadata": {
    "tags": []
   },
   "outputs": [
    {
     "name": "stdout",
     "output_type": "stream",
     "text": [
      "702956\n"
     ]
    }
   ],
   "source": [
    "# Count the number of rows where 'income' is null and 'action_taken' is 3\n",
    "count = df[(df['rate_spread'].isnull()) & (df['outcome'] == 0)].shape[0]\n",
    "print(count)"
   ]
  },
  {
   "cell_type": "code",
   "execution_count": 62,
   "id": "886ce4e1-1b72-4ebc-9eb2-735062c212d3",
   "metadata": {
    "tags": []
   },
   "outputs": [
    {
     "name": "stdout",
     "output_type": "stream",
     "text": [
      "702956\n"
     ]
    }
   ],
   "source": [
    "# Count the number of rows where 'income' is null and 'action_taken' is 3\n",
    "count = df[(df['interest_rate'].isnull()) & (df['outcome'] == 0)].shape[0]\n",
    "print(count)"
   ]
  },
  {
   "cell_type": "code",
   "execution_count": 63,
   "id": "cab17fcf-f76e-4c00-9799-4fc25821455a",
   "metadata": {
    "tags": []
   },
   "outputs": [
    {
     "name": "stdout",
     "output_type": "stream",
     "text": [
      "209196\n"
     ]
    }
   ],
   "source": [
    "# Count the number of rows where 'income' is null and 'action_taken' is 3\n",
    "count = df[(df['loan_to_value_ratio'].isnull()) & (df['outcome'] == 0)].shape[0]\n",
    "print(count)"
   ]
  },
  {
   "cell_type": "code",
   "execution_count": 64,
   "id": "8b05ef79-de7d-4170-8254-f89c00d2e926",
   "metadata": {
    "tags": []
   },
   "outputs": [
    {
     "name": "stdout",
     "output_type": "stream",
     "text": [
      "48290\n"
     ]
    }
   ],
   "source": [
    "# Count the number of rows where 'income' is null and 'action_taken' is 3\n",
    "count = df[(df['debt_to_income_ratio'].isnull()) & (df['outcome'] == 0)].shape[0]\n",
    "print(count)"
   ]
  },
  {
   "cell_type": "markdown",
   "id": "df30a168-7717-444d-9604-fdfe21762395",
   "metadata": {},
   "source": [
    "We will now examine which columns can be dropped"
   ]
  },
  {
   "cell_type": "code",
   "execution_count": 66,
   "id": "e5823baf-1df2-4fde-bc25-19205af07339",
   "metadata": {
    "tags": []
   },
   "outputs": [
    {
     "data": {
      "text/plain": [
       "(4948833, 30)"
      ]
     },
     "execution_count": 66,
     "metadata": {},
     "output_type": "execute_result"
    }
   ],
   "source": [
    "df.shape"
   ]
  },
  {
   "cell_type": "code",
   "execution_count": 67,
   "id": "bd1b0415-aa6b-4bfd-9560-d2c1497651f8",
   "metadata": {
    "tags": []
   },
   "outputs": [
    {
     "data": {
      "text/plain": [
       "Index(['derived_ethnicity', 'derived_race', 'derived_sex', 'outcome',\n",
       "       'preapproval', 'loan_type', 'reverse_mortgage',\n",
       "       'business_or_commercial_purpose', 'loan_amount', 'loan_to_value_ratio',\n",
       "       'interest_rate', 'rate_spread', 'hoepa_status', 'total_loan_costs',\n",
       "       'origination_charges', 'loan_term', 'negative_amortization',\n",
       "       'interest_only_payment', 'balloon_payment', 'property_value',\n",
       "       'occupancy_type', 'total_units', 'income', 'debt_to_income_ratio',\n",
       "       'applicant_credit_score_type', 'co-applicant_credit_score_type',\n",
       "       'applicant_age', 'co-applicant_age', 'submission_of_application',\n",
       "       'denial_reason-1'],\n",
       "      dtype='object')"
      ]
     },
     "execution_count": 67,
     "metadata": {},
     "output_type": "execute_result"
    }
   ],
   "source": [
    "df.columns"
   ]
  },
  {
   "cell_type": "code",
   "execution_count": 68,
   "id": "9c482764-a484-4323-bc98-e7e6e89add0e",
   "metadata": {
    "tags": []
   },
   "outputs": [],
   "source": [
    "# Identifying further irrelevent columns to drop\n",
    "dropping_columns = ['rate_spread', # Interest rate is already included\n",
    "                    'total_loan_costs', \n",
    "                    'hoepa_status', \n",
    "                    'origination_charges', \n",
    "                    'negative_amortization',\n",
    "                    'balloon_payment']"
   ]
  },
  {
   "cell_type": "code",
   "execution_count": 69,
   "id": "5da1b4fc-0def-4661-82c6-0cf8f51108ba",
   "metadata": {
    "tags": []
   },
   "outputs": [],
   "source": [
    "# Drop the additional columns that aren't needed\n",
    "df.drop(dropping_columns, axis=1, inplace=True)"
   ]
  },
  {
   "cell_type": "code",
   "execution_count": 70,
   "id": "af68f630-4f05-45d6-91f4-1786c031eae1",
   "metadata": {
    "tags": []
   },
   "outputs": [
    {
     "data": {
      "image/png": "[encoded data removed]",
      "text/plain": [
       "<Figure size 1000x600 with 2 Axes>"
      ]
     },
     "metadata": {},
     "output_type": "display_data"
    }
   ],
   "source": [
    "# Visualise the missing data heatmap\n",
    "plt.figure(figsize=(10, 6))\n",
    "plt.title(\"Missing Data Heatmap\")\n",
    "plt.xlabel(\"Columns\")\n",
    "plt.ylabel(\"Rows\")\n",
    "plt.imshow(df.isna(), cmap=cmap, aspect='auto', interpolation='none')\n",
    "plt.colorbar(label='Missing Data')\n",
    "plt.show()"
   ]
  },
  {
   "cell_type": "markdown",
   "id": "69d0be9f-5adc-4137-bb27-f71ad35d180f",
   "metadata": {},
   "source": [
    "Observation:\n",
    "* There is still a large amount of missing data in the form of null values.\n",
    "* I will handle these remaing null vlaues when we do feature engineering and model building\n",
    "* I will keep the remaing nulls in for EDA as they help demonstrate the story."
   ]
  },
  {
   "cell_type": "code",
   "execution_count": 72,
   "id": "6afe6308-7cea-47f2-b67f-48e030210b61",
   "metadata": {
    "tags": []
   },
   "outputs": [
    {
     "data": {
      "text/plain": [
       "derived_ethnicity                  object\n",
       "derived_race                       object\n",
       "derived_sex                        object\n",
       "outcome                             int64\n",
       "preapproval                         int64\n",
       "loan_type                           int64\n",
       "reverse_mortgage                    int64\n",
       "business_or_commercial_purpose      int64\n",
       "loan_amount                       float64\n",
       "loan_to_value_ratio                object\n",
       "interest_rate                      object\n",
       "loan_term                          object\n",
       "interest_only_payment               int64\n",
       "property_value                     object\n",
       "occupancy_type                      int64\n",
       "total_units                        object\n",
       "income                            float64\n",
       "debt_to_income_ratio               object\n",
       "applicant_credit_score_type         int64\n",
       "co-applicant_credit_score_type      int64\n",
       "applicant_age                      object\n",
       "co-applicant_age                   object\n",
       "submission_of_application           int64\n",
       "denial_reason-1                     int64\n",
       "dtype: object"
      ]
     },
     "execution_count": 72,
     "metadata": {},
     "output_type": "execute_result"
    }
   ],
   "source": [
    "# Check the datatypes\n",
    "df.dtypes"
   ]
  },
  {
   "cell_type": "markdown",
   "id": "f9d3264f-a55f-42f3-8c76-630cb962cabd",
   "metadata": {},
   "source": [
    "We will need to alter the datatype of several variable to make them useful "
   ]
  },
  {
   "cell_type": "code",
   "execution_count": 74,
   "id": "449c5fb1-df2f-48d3-890e-488617b2d993",
   "metadata": {
    "tags": []
   },
   "outputs": [
    {
     "data": {
      "text/html": [
       "<div>\n",
       "<style scoped>\n",
       "    .dataframe tbody tr th:only-of-type {\n",
       "        vertical-align: middle;\n",
       "    }\n",
       "\n",
       "    .dataframe tbody tr th {\n",
       "        vertical-align: top;\n",
       "    }\n",
       "\n",
       "    .dataframe thead th {\n",
       "        text-align: right;\n",
       "    }\n",
       "</style>\n",
       "<table border=\"1\" class=\"dataframe\">\n",
       "  <thead>\n",
       "    <tr style=\"text-align: right;\">\n",
       "      <th></th>\n",
       "      <th>derived_ethnicity</th>\n",
       "      <th>derived_race</th>\n",
       "      <th>derived_sex</th>\n",
       "      <th>outcome</th>\n",
       "      <th>preapproval</th>\n",
       "      <th>loan_type</th>\n",
       "      <th>reverse_mortgage</th>\n",
       "      <th>business_or_commercial_purpose</th>\n",
       "      <th>loan_amount</th>\n",
       "      <th>loan_to_value_ratio</th>\n",
       "      <th>interest_rate</th>\n",
       "      <th>loan_term</th>\n",
       "      <th>interest_only_payment</th>\n",
       "      <th>property_value</th>\n",
       "      <th>occupancy_type</th>\n",
       "      <th>total_units</th>\n",
       "      <th>income</th>\n",
       "      <th>debt_to_income_ratio</th>\n",
       "      <th>applicant_credit_score_type</th>\n",
       "      <th>co-applicant_credit_score_type</th>\n",
       "      <th>applicant_age</th>\n",
       "      <th>co-applicant_age</th>\n",
       "      <th>submission_of_application</th>\n",
       "      <th>denial_reason-1</th>\n",
       "    </tr>\n",
       "  </thead>\n",
       "  <tbody>\n",
       "    <tr>\n",
       "      <th>count</th>\n",
       "      <td>4948833</td>\n",
       "      <td>4948833</td>\n",
       "      <td>4948833</td>\n",
       "      <td>4.948833e+06</td>\n",
       "      <td>4.948833e+06</td>\n",
       "      <td>4.948833e+06</td>\n",
       "      <td>4.948833e+06</td>\n",
       "      <td>4.948833e+06</td>\n",
       "      <td>4.948833e+06</td>\n",
       "      <td>4577710</td>\n",
       "      <td>4236535</td>\n",
       "      <td>4930503.0</td>\n",
       "      <td>4.948833e+06</td>\n",
       "      <td>4864947.0</td>\n",
       "      <td>4.948833e+06</td>\n",
       "      <td>4948833</td>\n",
       "      <td>4.769569e+06</td>\n",
       "      <td>4742594</td>\n",
       "      <td>4.948833e+06</td>\n",
       "      <td>4.948833e+06</td>\n",
       "      <td>4948833</td>\n",
       "      <td>4948833</td>\n",
       "      <td>4.948833e+06</td>\n",
       "      <td>4.948833e+06</td>\n",
       "    </tr>\n",
       "    <tr>\n",
       "      <th>unique</th>\n",
       "      <td>5</td>\n",
       "      <td>9</td>\n",
       "      <td>4</td>\n",
       "      <td>NaN</td>\n",
       "      <td>NaN</td>\n",
       "      <td>NaN</td>\n",
       "      <td>NaN</td>\n",
       "      <td>NaN</td>\n",
       "      <td>NaN</td>\n",
       "      <td>175423</td>\n",
       "      <td>11206</td>\n",
       "      <td>958.0</td>\n",
       "      <td>NaN</td>\n",
       "      <td>5461.0</td>\n",
       "      <td>NaN</td>\n",
       "      <td>13</td>\n",
       "      <td>NaN</td>\n",
       "      <td>19</td>\n",
       "      <td>NaN</td>\n",
       "      <td>NaN</td>\n",
       "      <td>8</td>\n",
       "      <td>11</td>\n",
       "      <td>NaN</td>\n",
       "      <td>NaN</td>\n",
       "    </tr>\n",
       "    <tr>\n",
       "      <th>top</th>\n",
       "      <td>Not Hispanic or Latino</td>\n",
       "      <td>White</td>\n",
       "      <td>Joint</td>\n",
       "      <td>NaN</td>\n",
       "      <td>NaN</td>\n",
       "      <td>NaN</td>\n",
       "      <td>NaN</td>\n",
       "      <td>NaN</td>\n",
       "      <td>NaN</td>\n",
       "      <td>80.0</td>\n",
       "      <td>5.25</td>\n",
       "      <td>360.0</td>\n",
       "      <td>NaN</td>\n",
       "      <td>255000.0</td>\n",
       "      <td>NaN</td>\n",
       "      <td>1</td>\n",
       "      <td>NaN</td>\n",
       "      <td>30%-&lt;36%</td>\n",
       "      <td>NaN</td>\n",
       "      <td>NaN</td>\n",
       "      <td>25-34</td>\n",
       "      <td>9999</td>\n",
       "      <td>NaN</td>\n",
       "      <td>NaN</td>\n",
       "    </tr>\n",
       "    <tr>\n",
       "      <th>freq</th>\n",
       "      <td>3446545</td>\n",
       "      <td>3139209</td>\n",
       "      <td>1789836</td>\n",
       "      <td>NaN</td>\n",
       "      <td>NaN</td>\n",
       "      <td>NaN</td>\n",
       "      <td>NaN</td>\n",
       "      <td>NaN</td>\n",
       "      <td>NaN</td>\n",
       "      <td>374948</td>\n",
       "      <td>82909</td>\n",
       "      <td>2210375.0</td>\n",
       "      <td>NaN</td>\n",
       "      <td>54793.0</td>\n",
       "      <td>NaN</td>\n",
       "      <td>2739725</td>\n",
       "      <td>NaN</td>\n",
       "      <td>740577</td>\n",
       "      <td>NaN</td>\n",
       "      <td>NaN</td>\n",
       "      <td>1471814</td>\n",
       "      <td>2775266</td>\n",
       "      <td>NaN</td>\n",
       "      <td>NaN</td>\n",
       "    </tr>\n",
       "    <tr>\n",
       "      <th>mean</th>\n",
       "      <td>NaN</td>\n",
       "      <td>NaN</td>\n",
       "      <td>NaN</td>\n",
       "      <td>8.579552e-01</td>\n",
       "      <td>1.948397e+00</td>\n",
       "      <td>1.347157e+00</td>\n",
       "      <td>1.999556e+00</td>\n",
       "      <td>1.937889e+00</td>\n",
       "      <td>3.804465e+05</td>\n",
       "      <td>NaN</td>\n",
       "      <td>NaN</td>\n",
       "      <td>NaN</td>\n",
       "      <td>1.954396e+00</td>\n",
       "      <td>NaN</td>\n",
       "      <td>1.201248e+00</td>\n",
       "      <td>NaN</td>\n",
       "      <td>1.772517e+02</td>\n",
       "      <td>NaN</td>\n",
       "      <td>3.075688e+00</td>\n",
       "      <td>8.184115e+00</td>\n",
       "      <td>NaN</td>\n",
       "      <td>NaN</td>\n",
       "      <td>1.176439e+00</td>\n",
       "      <td>9.075307e+00</td>\n",
       "    </tr>\n",
       "    <tr>\n",
       "      <th>std</th>\n",
       "      <td>NaN</td>\n",
       "      <td>NaN</td>\n",
       "      <td>NaN</td>\n",
       "      <td>3.490961e-01</td>\n",
       "      <td>2.212243e-01</td>\n",
       "      <td>6.849403e-01</td>\n",
       "      <td>2.106528e-02</td>\n",
       "      <td>2.413563e-01</td>\n",
       "      <td>1.667789e+06</td>\n",
       "      <td>NaN</td>\n",
       "      <td>NaN</td>\n",
       "      <td>NaN</td>\n",
       "      <td>2.086249e-01</td>\n",
       "      <td>NaN</td>\n",
       "      <td>5.722587e-01</td>\n",
       "      <td>NaN</td>\n",
       "      <td>4.777551e+04</td>\n",
       "      <td>NaN</td>\n",
       "      <td>2.596533e+00</td>\n",
       "      <td>3.096054e+00</td>\n",
       "      <td>NaN</td>\n",
       "      <td>NaN</td>\n",
       "      <td>3.811936e-01</td>\n",
       "      <td>2.457159e+00</td>\n",
       "    </tr>\n",
       "    <tr>\n",
       "      <th>min</th>\n",
       "      <td>NaN</td>\n",
       "      <td>NaN</td>\n",
       "      <td>NaN</td>\n",
       "      <td>0.000000e+00</td>\n",
       "      <td>1.000000e+00</td>\n",
       "      <td>1.000000e+00</td>\n",
       "      <td>1.000000e+00</td>\n",
       "      <td>1.000000e+00</td>\n",
       "      <td>5.000000e+03</td>\n",
       "      <td>NaN</td>\n",
       "      <td>NaN</td>\n",
       "      <td>NaN</td>\n",
       "      <td>1.000000e+00</td>\n",
       "      <td>NaN</td>\n",
       "      <td>1.000000e+00</td>\n",
       "      <td>NaN</td>\n",
       "      <td>-1.330000e+05</td>\n",
       "      <td>NaN</td>\n",
       "      <td>1.000000e+00</td>\n",
       "      <td>1.000000e+00</td>\n",
       "      <td>NaN</td>\n",
       "      <td>NaN</td>\n",
       "      <td>1.000000e+00</td>\n",
       "      <td>1.000000e+00</td>\n",
       "    </tr>\n",
       "    <tr>\n",
       "      <th>25%</th>\n",
       "      <td>NaN</td>\n",
       "      <td>NaN</td>\n",
       "      <td>NaN</td>\n",
       "      <td>1.000000e+00</td>\n",
       "      <td>2.000000e+00</td>\n",
       "      <td>1.000000e+00</td>\n",
       "      <td>2.000000e+00</td>\n",
       "      <td>2.000000e+00</td>\n",
       "      <td>1.750000e+05</td>\n",
       "      <td>NaN</td>\n",
       "      <td>NaN</td>\n",
       "      <td>NaN</td>\n",
       "      <td>2.000000e+00</td>\n",
       "      <td>NaN</td>\n",
       "      <td>1.000000e+00</td>\n",
       "      <td>NaN</td>\n",
       "      <td>6.400000e+01</td>\n",
       "      <td>NaN</td>\n",
       "      <td>1.000000e+00</td>\n",
       "      <td>9.000000e+00</td>\n",
       "      <td>NaN</td>\n",
       "      <td>NaN</td>\n",
       "      <td>1.000000e+00</td>\n",
       "      <td>1.000000e+01</td>\n",
       "    </tr>\n",
       "    <tr>\n",
       "      <th>50%</th>\n",
       "      <td>NaN</td>\n",
       "      <td>NaN</td>\n",
       "      <td>NaN</td>\n",
       "      <td>1.000000e+00</td>\n",
       "      <td>2.000000e+00</td>\n",
       "      <td>1.000000e+00</td>\n",
       "      <td>2.000000e+00</td>\n",
       "      <td>2.000000e+00</td>\n",
       "      <td>2.850000e+05</td>\n",
       "      <td>NaN</td>\n",
       "      <td>NaN</td>\n",
       "      <td>NaN</td>\n",
       "      <td>2.000000e+00</td>\n",
       "      <td>NaN</td>\n",
       "      <td>1.000000e+00</td>\n",
       "      <td>NaN</td>\n",
       "      <td>9.700000e+01</td>\n",
       "      <td>NaN</td>\n",
       "      <td>2.000000e+00</td>\n",
       "      <td>1.000000e+01</td>\n",
       "      <td>NaN</td>\n",
       "      <td>NaN</td>\n",
       "      <td>1.000000e+00</td>\n",
       "      <td>1.000000e+01</td>\n",
       "    </tr>\n",
       "    <tr>\n",
       "      <th>75%</th>\n",
       "      <td>NaN</td>\n",
       "      <td>NaN</td>\n",
       "      <td>NaN</td>\n",
       "      <td>1.000000e+00</td>\n",
       "      <td>2.000000e+00</td>\n",
       "      <td>1.000000e+00</td>\n",
       "      <td>2.000000e+00</td>\n",
       "      <td>2.000000e+00</td>\n",
       "      <td>4.250000e+05</td>\n",
       "      <td>NaN</td>\n",
       "      <td>NaN</td>\n",
       "      <td>NaN</td>\n",
       "      <td>2.000000e+00</td>\n",
       "      <td>NaN</td>\n",
       "      <td>1.000000e+00</td>\n",
       "      <td>NaN</td>\n",
       "      <td>1.540000e+02</td>\n",
       "      <td>NaN</td>\n",
       "      <td>3.000000e+00</td>\n",
       "      <td>1.000000e+01</td>\n",
       "      <td>NaN</td>\n",
       "      <td>NaN</td>\n",
       "      <td>1.000000e+00</td>\n",
       "      <td>1.000000e+01</td>\n",
       "    </tr>\n",
       "    <tr>\n",
       "      <th>max</th>\n",
       "      <td>NaN</td>\n",
       "      <td>NaN</td>\n",
       "      <td>NaN</td>\n",
       "      <td>1.000000e+00</td>\n",
       "      <td>2.000000e+00</td>\n",
       "      <td>4.000000e+00</td>\n",
       "      <td>2.000000e+00</td>\n",
       "      <td>2.000000e+00</td>\n",
       "      <td>1.179005e+09</td>\n",
       "      <td>NaN</td>\n",
       "      <td>NaN</td>\n",
       "      <td>NaN</td>\n",
       "      <td>2.000000e+00</td>\n",
       "      <td>NaN</td>\n",
       "      <td>3.000000e+00</td>\n",
       "      <td>NaN</td>\n",
       "      <td>1.038120e+08</td>\n",
       "      <td>NaN</td>\n",
       "      <td>1.100000e+01</td>\n",
       "      <td>1.100000e+01</td>\n",
       "      <td>NaN</td>\n",
       "      <td>NaN</td>\n",
       "      <td>2.000000e+00</td>\n",
       "      <td>1.000000e+01</td>\n",
       "    </tr>\n",
       "  </tbody>\n",
       "</table>\n",
       "</div>"
      ],
      "text/plain": [
       "             derived_ethnicity derived_race derived_sex       outcome  \\\n",
       "count                  4948833      4948833     4948833  4.948833e+06   \n",
       "unique                       5            9           4           NaN   \n",
       "top     Not Hispanic or Latino        White       Joint           NaN   \n",
       "freq                   3446545      3139209     1789836           NaN   \n",
       "mean                       NaN          NaN         NaN  8.579552e-01   \n",
       "std                        NaN          NaN         NaN  3.490961e-01   \n",
       "min                        NaN          NaN         NaN  0.000000e+00   \n",
       "25%                        NaN          NaN         NaN  1.000000e+00   \n",
       "50%                        NaN          NaN         NaN  1.000000e+00   \n",
       "75%                        NaN          NaN         NaN  1.000000e+00   \n",
       "max                        NaN          NaN         NaN  1.000000e+00   \n",
       "\n",
       "         preapproval     loan_type  reverse_mortgage  \\\n",
       "count   4.948833e+06  4.948833e+06      4.948833e+06   \n",
       "unique           NaN           NaN               NaN   \n",
       "top              NaN           NaN               NaN   \n",
       "freq             NaN           NaN               NaN   \n",
       "mean    1.948397e+00  1.347157e+00      1.999556e+00   \n",
       "std     2.212243e-01  6.849403e-01      2.106528e-02   \n",
       "min     1.000000e+00  1.000000e+00      1.000000e+00   \n",
       "25%     2.000000e+00  1.000000e+00      2.000000e+00   \n",
       "50%     2.000000e+00  1.000000e+00      2.000000e+00   \n",
       "75%     2.000000e+00  1.000000e+00      2.000000e+00   \n",
       "max     2.000000e+00  4.000000e+00      2.000000e+00   \n",
       "\n",
       "        business_or_commercial_purpose   loan_amount loan_to_value_ratio  \\\n",
       "count                     4.948833e+06  4.948833e+06             4577710   \n",
       "unique                             NaN           NaN              175423   \n",
       "top                                NaN           NaN                80.0   \n",
       "freq                               NaN           NaN              374948   \n",
       "mean                      1.937889e+00  3.804465e+05                 NaN   \n",
       "std                       2.413563e-01  1.667789e+06                 NaN   \n",
       "min                       1.000000e+00  5.000000e+03                 NaN   \n",
       "25%                       2.000000e+00  1.750000e+05                 NaN   \n",
       "50%                       2.000000e+00  2.850000e+05                 NaN   \n",
       "75%                       2.000000e+00  4.250000e+05                 NaN   \n",
       "max                       2.000000e+00  1.179005e+09                 NaN   \n",
       "\n",
       "       interest_rate  loan_term  interest_only_payment  property_value  \\\n",
       "count        4236535  4930503.0           4.948833e+06       4864947.0   \n",
       "unique         11206      958.0                    NaN          5461.0   \n",
       "top             5.25      360.0                    NaN        255000.0   \n",
       "freq           82909  2210375.0                    NaN         54793.0   \n",
       "mean             NaN        NaN           1.954396e+00             NaN   \n",
       "std              NaN        NaN           2.086249e-01             NaN   \n",
       "min              NaN        NaN           1.000000e+00             NaN   \n",
       "25%              NaN        NaN           2.000000e+00             NaN   \n",
       "50%              NaN        NaN           2.000000e+00             NaN   \n",
       "75%              NaN        NaN           2.000000e+00             NaN   \n",
       "max              NaN        NaN           2.000000e+00             NaN   \n",
       "\n",
       "        occupancy_type total_units        income debt_to_income_ratio  \\\n",
       "count     4.948833e+06     4948833  4.769569e+06              4742594   \n",
       "unique             NaN          13           NaN                   19   \n",
       "top                NaN           1           NaN             30%-<36%   \n",
       "freq               NaN     2739725           NaN               740577   \n",
       "mean      1.201248e+00         NaN  1.772517e+02                  NaN   \n",
       "std       5.722587e-01         NaN  4.777551e+04                  NaN   \n",
       "min       1.000000e+00         NaN -1.330000e+05                  NaN   \n",
       "25%       1.000000e+00         NaN  6.400000e+01                  NaN   \n",
       "50%       1.000000e+00         NaN  9.700000e+01                  NaN   \n",
       "75%       1.000000e+00         NaN  1.540000e+02                  NaN   \n",
       "max       3.000000e+00         NaN  1.038120e+08                  NaN   \n",
       "\n",
       "        applicant_credit_score_type  co-applicant_credit_score_type  \\\n",
       "count                  4.948833e+06                    4.948833e+06   \n",
       "unique                          NaN                             NaN   \n",
       "top                             NaN                             NaN   \n",
       "freq                            NaN                             NaN   \n",
       "mean                   3.075688e+00                    8.184115e+00   \n",
       "std                    2.596533e+00                    3.096054e+00   \n",
       "min                    1.000000e+00                    1.000000e+00   \n",
       "25%                    1.000000e+00                    9.000000e+00   \n",
       "50%                    2.000000e+00                    1.000000e+01   \n",
       "75%                    3.000000e+00                    1.000000e+01   \n",
       "max                    1.100000e+01                    1.100000e+01   \n",
       "\n",
       "       applicant_age co-applicant_age  submission_of_application  \\\n",
       "count        4948833          4948833               4.948833e+06   \n",
       "unique             8               11                        NaN   \n",
       "top            25-34             9999                        NaN   \n",
       "freq         1471814          2775266                        NaN   \n",
       "mean             NaN              NaN               1.176439e+00   \n",
       "std              NaN              NaN               3.811936e-01   \n",
       "min              NaN              NaN               1.000000e+00   \n",
       "25%              NaN              NaN               1.000000e+00   \n",
       "50%              NaN              NaN               1.000000e+00   \n",
       "75%              NaN              NaN               1.000000e+00   \n",
       "max              NaN              NaN               2.000000e+00   \n",
       "\n",
       "        denial_reason-1  \n",
       "count      4.948833e+06  \n",
       "unique              NaN  \n",
       "top                 NaN  \n",
       "freq                NaN  \n",
       "mean       9.075307e+00  \n",
       "std        2.457159e+00  \n",
       "min        1.000000e+00  \n",
       "25%        1.000000e+01  \n",
       "50%        1.000000e+01  \n",
       "75%        1.000000e+01  \n",
       "max        1.000000e+01  "
      ]
     },
     "execution_count": 74,
     "metadata": {},
     "output_type": "execute_result"
    }
   ],
   "source": [
    "# Describe the dataframe\n",
    "df.describe(include='all')"
   ]
  },
  {
   "cell_type": "markdown",
   "id": "d45a8f2e-b2f9-4e5d-9bf4-4045c82989e6",
   "metadata": {
    "tags": []
   },
   "source": [
    "Observations:\n",
    "* The following variableds need to convert to numerical data types:\n",
    "    * loan_to_value_ratio\n",
    "    * interest_rate\n",
    "    * loan_term\n",
    "    * property_value\n",
    "    * total_units\n",
    "    * debt_to_income_ratio\n",
    "    * applicant_age\n",
    "    * co_applicat age"
   ]
  },
  {
   "cell_type": "code",
   "execution_count": 76,
   "id": "95db8b8f-96a1-4b3f-9639-d595a6d32649",
   "metadata": {
    "tags": []
   },
   "outputs": [
    {
     "data": {
      "text/plain": [
       "371123"
      ]
     },
     "execution_count": 76,
     "metadata": {},
     "output_type": "execute_result"
    }
   ],
   "source": [
    "df['loan_to_value_ratio'].isnull().sum()"
   ]
  },
  {
   "cell_type": "code",
   "execution_count": 77,
   "id": "eff1e0dd-6585-4edb-b50c-3b14c373045d",
   "metadata": {
    "tags": []
   },
   "outputs": [],
   "source": [
    "df['loan_to_value_ratio'] = pd.to_numeric(df['loan_to_value_ratio'], errors='coerce')"
   ]
  },
  {
   "cell_type": "code",
   "execution_count": 78,
   "id": "8117f4c6-66b6-4056-8c1f-e29ddf714845",
   "metadata": {
    "tags": []
   },
   "outputs": [
    {
     "data": {
      "text/plain": [
       "371123"
      ]
     },
     "execution_count": 78,
     "metadata": {},
     "output_type": "execute_result"
    }
   ],
   "source": [
    "df['loan_to_value_ratio'].isnull().sum()"
   ]
  },
  {
   "cell_type": "code",
   "execution_count": 79,
   "id": "e18b6d89-ef8e-4ee3-9dcf-0c097fbf73d4",
   "metadata": {
    "tags": []
   },
   "outputs": [
    {
     "data": {
      "text/plain": [
       "interest_rate\n",
       "5.25       82909\n",
       "5.625      82796\n",
       "4.75       82524\n",
       "5.25       82515\n",
       "5.5        81817\n",
       "           ...  \n",
       "3.90142        1\n",
       "2.265          1\n",
       "1.83           1\n",
       "3.501          1\n",
       "7.313          1\n",
       "Name: count, Length: 11206, dtype: int64"
      ]
     },
     "execution_count": 79,
     "metadata": {},
     "output_type": "execute_result"
    }
   ],
   "source": [
    "df['interest_rate'].value_counts()"
   ]
  },
  {
   "cell_type": "code",
   "execution_count": 80,
   "id": "d1b68e21-7176-47e0-b648-c5177c2f628f",
   "metadata": {
    "tags": []
   },
   "outputs": [
    {
     "data": {
      "text/plain": [
       "712298"
      ]
     },
     "execution_count": 80,
     "metadata": {},
     "output_type": "execute_result"
    }
   ],
   "source": [
    "df['interest_rate'].isnull().sum()"
   ]
  },
  {
   "cell_type": "code",
   "execution_count": 81,
   "id": "344be05d-72c2-46ca-9db2-3ab9e1ace985",
   "metadata": {
    "tags": []
   },
   "outputs": [],
   "source": [
    "# Interest rate should be numerical\n",
    "df['interest_rate'] = pd.to_numeric(df['interest_rate'], errors='coerce')"
   ]
  },
  {
   "cell_type": "code",
   "execution_count": 82,
   "id": "eafa15cc-c912-4e20-a2e9-99825b6e9758",
   "metadata": {
    "tags": []
   },
   "outputs": [
    {
     "data": {
      "text/plain": [
       "712298"
      ]
     },
     "execution_count": 82,
     "metadata": {},
     "output_type": "execute_result"
    }
   ],
   "source": [
    "df['interest_rate'].isnull().sum()"
   ]
  },
  {
   "cell_type": "code",
   "execution_count": 83,
   "id": "b9e80912-fff9-4ac0-acdd-f532015334c6",
   "metadata": {
    "tags": []
   },
   "outputs": [
    {
     "data": {
      "text/plain": [
       "18330"
      ]
     },
     "execution_count": 83,
     "metadata": {},
     "output_type": "execute_result"
    }
   ],
   "source": [
    "df['loan_term'].isnull().sum()"
   ]
  },
  {
   "cell_type": "code",
   "execution_count": 84,
   "id": "c207eb2f-1dc0-4b54-a24e-217202c5fe88",
   "metadata": {
    "tags": []
   },
   "outputs": [],
   "source": [
    "# Loan term should be numerical\n",
    "df['loan_term'] = pd.to_numeric(df['loan_term'], errors='coerce')"
   ]
  },
  {
   "cell_type": "code",
   "execution_count": 85,
   "id": "771bf799-e98c-462c-be63-e902ab3401dd",
   "metadata": {
    "tags": []
   },
   "outputs": [
    {
     "data": {
      "text/plain": [
       "18330"
      ]
     },
     "execution_count": 85,
     "metadata": {},
     "output_type": "execute_result"
    }
   ],
   "source": [
    "df['loan_term'].isnull().sum()"
   ]
  },
  {
   "cell_type": "code",
   "execution_count": 86,
   "id": "3e325432-ebb2-4299-9d3d-ee6b9608d9e8",
   "metadata": {
    "tags": []
   },
   "outputs": [
    {
     "data": {
      "text/plain": [
       "83886"
      ]
     },
     "execution_count": 86,
     "metadata": {},
     "output_type": "execute_result"
    }
   ],
   "source": [
    "df['property_value'].isnull().sum()"
   ]
  },
  {
   "cell_type": "code",
   "execution_count": 87,
   "id": "09af5f6f-b202-4de8-8794-14c6f4cd7224",
   "metadata": {
    "tags": []
   },
   "outputs": [],
   "source": [
    "# Property value should be numerical \n",
    "df['property_value'] = pd.to_numeric(df['property_value'], errors='coerce')"
   ]
  },
  {
   "cell_type": "code",
   "execution_count": 88,
   "id": "328f6853-ff2a-4d1f-bde0-cd8186c6fc64",
   "metadata": {
    "tags": []
   },
   "outputs": [
    {
     "data": {
      "text/plain": [
       "83886"
      ]
     },
     "execution_count": 88,
     "metadata": {},
     "output_type": "execute_result"
    }
   ],
   "source": [
    "df['property_value'].isnull().sum()"
   ]
  },
  {
   "cell_type": "code",
   "execution_count": 89,
   "id": "ed893fd3-85ed-43f7-9307-4d0ec614d23b",
   "metadata": {
    "tags": []
   },
   "outputs": [
    {
     "data": {
      "text/plain": [
       "total_units\n",
       "1          2739725\n",
       "1          2052830\n",
       "2            63096\n",
       "2            31826\n",
       "5-24         15462\n",
       "3            14733\n",
       "4            11293\n",
       "3             6883\n",
       "4             4449\n",
       "25-49         2892\n",
       ">149          2384\n",
       "50-99         2213\n",
       "100-149       1047\n",
       "Name: count, dtype: int64"
      ]
     },
     "execution_count": 89,
     "metadata": {},
     "output_type": "execute_result"
    }
   ],
   "source": [
    "df['total_units'].value_counts()"
   ]
  },
  {
   "cell_type": "code",
   "execution_count": 90,
   "id": "c6cf6160-56e0-4e4e-b4a5-94230211b0a7",
   "metadata": {
    "tags": []
   },
   "outputs": [],
   "source": [
    "# total units\n",
    "df['total_units'] = pd.to_numeric(df['total_units'], errors='coerce')"
   ]
  },
  {
   "cell_type": "code",
   "execution_count": 91,
   "id": "b48d3bc2-8ff7-4c6f-91b0-f2765ab775c3",
   "metadata": {
    "tags": []
   },
   "outputs": [
    {
     "data": {
      "text/plain": [
       "total_units\n",
       "1.0    4792555\n",
       "2.0      94922\n",
       "3.0      21616\n",
       "4.0      15742\n",
       "Name: count, dtype: int64"
      ]
     },
     "execution_count": 91,
     "metadata": {},
     "output_type": "execute_result"
    }
   ],
   "source": [
    "df['total_units'].value_counts()"
   ]
  },
  {
   "cell_type": "code",
   "execution_count": 92,
   "id": "4b91059e-7ddc-46ec-a51b-af91564bcb85",
   "metadata": {
    "tags": []
   },
   "outputs": [
    {
     "data": {
      "text/plain": [
       "debt_to_income_ratio\n",
       "30%-<36%    740577\n",
       "20%-<30%    717586\n",
       "50%-60%     427493\n",
       "<20%        257113\n",
       "49          204195\n",
       "44          202910\n",
       "42          197891\n",
       ">60%        193334\n",
       "43          182563\n",
       "41          182267\n",
       "40          178017\n",
       "39          171113\n",
       "45          162712\n",
       "38          161299\n",
       "48          161181\n",
       "37          154633\n",
       "47          151771\n",
       "46          150182\n",
       "36          145757\n",
       "Name: count, dtype: int64"
      ]
     },
     "execution_count": 92,
     "metadata": {},
     "output_type": "execute_result"
    }
   ],
   "source": [
    "df['debt_to_income_ratio'].value_counts()"
   ]
  },
  {
   "cell_type": "code",
   "execution_count": 93,
   "id": "1a3c15df-9426-4b30-a807-1aa9f8fb3e83",
   "metadata": {
    "tags": []
   },
   "outputs": [],
   "source": [
    "# Re-map the categories of 'debt_to_income' and change the data type from object to category\n",
    "category_mapping = {\n",
    "    '<20%': '<20%',\n",
    "    '20%-<30%': '20%-<30%',\n",
    "    '30%-<36%': '30%-<40%',\n",
    "    '36': '30%-<40%',\n",
    "    '37': '30%-<40%',\n",
    "    '38': '30%-<40%',\n",
    "    '39': '30%-<40%',\n",
    "    '40': '30%-<40%',\n",
    "    '41': '40%-<50%',\n",
    "    '42': '40%-<50%',\n",
    "    '43': '40%-<50%',\n",
    "    '44': '40%-<50%',\n",
    "    '45': '40%-<50%',\n",
    "    '46': '40%-<50%',\n",
    "    '47': '40%-<50%',\n",
    "    '48': '40%-<50%',\n",
    "    '49': '40%-<50%',\n",
    "    '50%-60%': '50%-<60%',\n",
    "    '>60%': '>60%'\n",
    "}\n",
    "\n",
    "# Map the original categories to the new categories\n",
    "df['debt_to_income_ratio'] = df['debt_to_income_ratio'].map(category_mapping)"
   ]
  },
  {
   "cell_type": "code",
   "execution_count": 94,
   "id": "f1f6d945-b456-44ba-95af-a3b717e2f8ed",
   "metadata": {
    "tags": []
   },
   "outputs": [
    {
     "data": {
      "text/plain": [
       "debt_to_income_ratio\n",
       "40%-<50%    1595672\n",
       "30%-<40%    1551396\n",
       "20%-<30%     717586\n",
       "50%-<60%     427493\n",
       "<20%         257113\n",
       ">60%         193334\n",
       "Name: count, dtype: int64"
      ]
     },
     "execution_count": 94,
     "metadata": {},
     "output_type": "execute_result"
    }
   ],
   "source": [
    "df['debt_to_income_ratio'].value_counts()"
   ]
  },
  {
   "cell_type": "code",
   "execution_count": 95,
   "id": "31fd72d8-59b9-4a7b-95c7-e1b67cc22721",
   "metadata": {
    "tags": []
   },
   "outputs": [
    {
     "data": {
      "text/plain": [
       "0          50%-<60%\n",
       "1          40%-<50%\n",
       "2          30%-<40%\n",
       "3              <20%\n",
       "4              <20%\n",
       "             ...   \n",
       "5075868         NaN\n",
       "5075869    50%-<60%\n",
       "5075870         NaN\n",
       "5075871        >60%\n",
       "5075872    40%-<50%\n",
       "Name: debt_to_income_ratio, Length: 4948833, dtype: category\n",
       "Categories (6, object): ['20%-<30%', '30%-<40%', '40%-<50%', '50%-<60%', '<20%', '>60%']"
      ]
     },
     "execution_count": 95,
     "metadata": {},
     "output_type": "execute_result"
    }
   ],
   "source": [
    "df['debt_to_income_ratio'].astype('category')"
   ]
  },
  {
   "cell_type": "code",
   "execution_count": 96,
   "id": "37760c12-e146-4e07-a9f2-66a921864423",
   "metadata": {
    "tags": []
   },
   "outputs": [
    {
     "data": {
      "text/plain": [
       "applicant_age\n",
       "25-34    1471814\n",
       "35-44    1314449\n",
       "45-54     853073\n",
       "55-64     571574\n",
       "<25       286130\n",
       "65-74     269324\n",
       "8888      109468\n",
       ">74        73001\n",
       "Name: count, dtype: int64"
      ]
     },
     "execution_count": 96,
     "metadata": {},
     "output_type": "execute_result"
    }
   ],
   "source": [
    "df['applicant_age'].value_counts()"
   ]
  },
  {
   "cell_type": "code",
   "execution_count": 97,
   "id": "03cd8da9-3c58-4b65-acdb-1bf07e3fd6ea",
   "metadata": {
    "tags": []
   },
   "outputs": [],
   "source": [
    "# Dropping rows where applicant_Age is 8888\n",
    "df = df[df['applicant_age'] != '8888']"
   ]
  },
  {
   "cell_type": "code",
   "execution_count": 98,
   "id": "6dde38fd-d94b-4aed-8f6e-40ea2e8caf0d",
   "metadata": {
    "tags": []
   },
   "outputs": [
    {
     "data": {
      "text/plain": [
       "applicant_age\n",
       "25-34    1471814\n",
       "35-44    1314449\n",
       "45-54     853073\n",
       "55-64     571574\n",
       "<25       286130\n",
       "65-74     269324\n",
       ">74        73001\n",
       "Name: count, dtype: int64"
      ]
     },
     "execution_count": 98,
     "metadata": {},
     "output_type": "execute_result"
    }
   ],
   "source": [
    "df['applicant_age'].value_counts()"
   ]
  },
  {
   "cell_type": "code",
   "execution_count": 99,
   "id": "b93873c4-4a4e-415f-b3ce-e74f8729ad0e",
   "metadata": {
    "tags": []
   },
   "outputs": [
    {
     "data": {
      "text/plain": [
       "0          55-64\n",
       "1          55-64\n",
       "2          45-54\n",
       "3          55-64\n",
       "4          45-54\n",
       "           ...  \n",
       "5075868    55-64\n",
       "5075869    55-64\n",
       "5075870      <25\n",
       "5075871    45-54\n",
       "5075872    25-34\n",
       "Name: applicant_age, Length: 4839365, dtype: category\n",
       "Categories (7, object): ['25-34', '35-44', '45-54', '55-64', '65-74', '<25', '>74']"
      ]
     },
     "execution_count": 99,
     "metadata": {},
     "output_type": "execute_result"
    }
   ],
   "source": [
    "df['applicant_age'].astype('category')"
   ]
  },
  {
   "cell_type": "code",
   "execution_count": 100,
   "id": "fc9b9855-679d-41ce-bf78-0eea2d128012",
   "metadata": {
    "tags": []
   },
   "outputs": [
    {
     "data": {
      "text/plain": [
       "co-applicant_age\n",
       "9999     2696182\n",
       "25-34     644407\n",
       "35-44     535878\n",
       "45-54     351273\n",
       "55-64     279072\n",
       "65-74     153168\n",
       "<25       119097\n",
       ">74        41448\n",
       "8888       18651\n",
       "9999         189\n",
       "Name: count, dtype: int64"
      ]
     },
     "execution_count": 100,
     "metadata": {},
     "output_type": "execute_result"
    }
   ],
   "source": [
    "# co applicant age\n",
    "df['co-applicant_age'].value_counts()"
   ]
  },
  {
   "cell_type": "code",
   "execution_count": 101,
   "id": "3c642318-0739-4277-a464-c31ec660d555",
   "metadata": {
    "tags": []
   },
   "outputs": [],
   "source": [
    "\n",
    "# Define a function to map values\n",
    "def map_values(value):\n",
    "    if value in ['8888', '9999', 8888, 9999]:\n",
    "        return 1\n",
    "    else:\n",
    "        return 0\n",
    "\n",
    "# Apply the mapping function to the column\n",
    "df['co-applicant_age'] = df['co-applicant_age'].apply(map_values)\n"
   ]
  },
  {
   "cell_type": "code",
   "execution_count": 102,
   "id": "db40b6da-0055-4769-8246-4e39f9ad4407",
   "metadata": {
    "tags": []
   },
   "outputs": [
    {
     "data": {
      "text/plain": [
       "co-applicant_age\n",
       "1    2715022\n",
       "0    2124343\n",
       "Name: count, dtype: int64"
      ]
     },
     "execution_count": 102,
     "metadata": {},
     "output_type": "execute_result"
    }
   ],
   "source": [
    "# co applicant age\n",
    "df['co-applicant_age'].value_counts()"
   ]
  },
  {
   "cell_type": "code",
   "execution_count": 103,
   "id": "4cf3f512-947b-45d6-acf3-0cf0442bc409",
   "metadata": {
    "tags": []
   },
   "outputs": [],
   "source": [
    "# Rename the columns for better interpetability\n",
    "df.rename(columns={'co-applicant_age': 'co_applicant',\n",
    "                   'derived_ethnicity' : 'ethnicity',\n",
    "                   'derived_race' : 'race',\n",
    "                   'derived_sex' : 'sex',\n",
    "                   'submission_of_application' : 'intermediary',\n",
    "                   'denial_reason-1' : 'denial_reason',\n",
    "                   'applicant_age' : 'age'\n",
    "                    }, inplace=True)\n",
    "\n",
    "# This column now acts as a proxy for wether or not there was a co-applicant"
   ]
  },
  {
   "cell_type": "code",
   "execution_count": 104,
   "id": "63d63127-5461-42a7-8826-0c4a21636233",
   "metadata": {
    "tags": []
   },
   "outputs": [
    {
     "name": "stdout",
     "output_type": "stream",
     "text": [
      "<class 'pandas.core.frame.DataFrame'>\n",
      "Index: 4839365 entries, 0 to 5075872\n",
      "Data columns (total 24 columns):\n",
      " #   Column                          Dtype  \n",
      "---  ------                          -----  \n",
      " 0   ethnicity                       object \n",
      " 1   race                            object \n",
      " 2   sex                             object \n",
      " 3   outcome                         int64  \n",
      " 4   preapproval                     int64  \n",
      " 5   loan_type                       int64  \n",
      " 6   reverse_mortgage                int64  \n",
      " 7   business_or_commercial_purpose  int64  \n",
      " 8   loan_amount                     float64\n",
      " 9   loan_to_value_ratio             float64\n",
      " 10  interest_rate                   float64\n",
      " 11  loan_term                       float64\n",
      " 12  interest_only_payment           int64  \n",
      " 13  property_value                  float64\n",
      " 14  occupancy_type                  int64  \n",
      " 15  total_units                     float64\n",
      " 16  income                          float64\n",
      " 17  debt_to_income_ratio            object \n",
      " 18  applicant_credit_score_type     int64  \n",
      " 19  co-applicant_credit_score_type  int64  \n",
      " 20  age                             object \n",
      " 21  co_applicant                    int64  \n",
      " 22  intermediary                    int64  \n",
      " 23  denial_reason                   int64  \n",
      "dtypes: float64(7), int64(12), object(5)\n",
      "memory usage: 923.0+ MB\n"
     ]
    }
   ],
   "source": [
    "df.info()"
   ]
  },
  {
   "cell_type": "code",
   "execution_count": 105,
   "id": "7c3fc7c5-a1c1-487a-89f5-e3892e6bb991",
   "metadata": {
    "tags": []
   },
   "outputs": [
    {
     "data": {
      "text/plain": [
       "outcome\n",
       "1    85.698268\n",
       "0    14.301732\n",
       "Name: proportion, dtype: float64"
      ]
     },
     "execution_count": 105,
     "metadata": {},
     "output_type": "execute_result"
    }
   ],
   "source": [
    "# Check the balance of our target class\n",
    "df['outcome'].value_counts(normalize=True)*100"
   ]
  },
  {
   "cell_type": "code",
   "execution_count": 106,
   "id": "b4fa6cdb-650a-450b-aaf9-f57949d9c21e",
   "metadata": {},
   "outputs": [],
   "source": [
    "df.to_csv('ML_data.csv', index=False)\n"
   ]
  },
  {
   "cell_type": "code",
   "execution_count": 107,
   "id": "636132d2-fa4d-4b50-80df-019f2ed8e488",
   "metadata": {},
   "outputs": [
    {
     "data": {
      "image/png": "[encoded data removed]",
      "text/plain": [
       "<Figure size 640x480 with 2 Axes>"
      ]
     },
     "metadata": {},
     "output_type": "display_data"
    }
   ],
   "source": [
    "import matplotlib.pyplot as plt\n",
    "\n",
    "# Filter out negative income values\n",
    "filtered_df = df[df['income'] >= 0]\n",
    "\n",
    "# Calculate the 90th percentile of income and property value\n",
    "income_threshold = filtered_df['income'].quantile(0.99)\n",
    "property_value_threshold = filtered_df['property_value'].quantile(0.99)\n",
    "\n",
    "# Filter the DataFrame to exclude the highest 10% of income and property value\n",
    "filtered_df = filtered_df[(filtered_df['income'] <= income_threshold) & (filtered_df['property_value'] <= property_value_threshold)]\n",
    "\n",
    "# Create scatter plot using the filtered DataFrame and apply hue for the \"outcome\" variable\n",
    "plt.scatter(filtered_df['income'], filtered_df['property_value'], c=filtered_df['outcome'])  # Use the 'outcome' variable as the hue\n",
    "\n",
    "# Add labels and title\n",
    "plt.xlabel('Income')\n",
    "plt.ylabel('Property Value')\n",
    "plt.title('Income vs. Property Value (Excluding Top 10%)')\n",
    "\n",
    "# Add a colorbar to show the mapping of outcomes to colors\n",
    "plt.colorbar(label='Outcome')\n",
    "\n",
    "# Display the plot\n",
    "plt.show()"
   ]
  },
  {
   "cell_type": "code",
   "execution_count": 108,
   "id": "565f0ae0-4ace-4e88-9627-a15d0c6762ca",
   "metadata": {
    "tags": []
   },
   "outputs": [
    {
     "data": {
      "text/plain": [
       "0          371.0\n",
       "1           62.0\n",
       "2           43.0\n",
       "3          662.0\n",
       "4          176.0\n",
       "           ...  \n",
       "5075868      NaN\n",
       "5075869    371.0\n",
       "5075870      8.0\n",
       "5075871     31.0\n",
       "5075872     66.0\n",
       "Name: income, Length: 4839365, dtype: float64"
      ]
     },
     "execution_count": 108,
     "metadata": {},
     "output_type": "execute_result"
    }
   ],
   "source": [
    "df['income']"
   ]
  },
  {
   "cell_type": "code",
   "execution_count": null,
   "id": "2f6cf21a-24a5-40f3-9a2c-859a06e51087",
   "metadata": {},
   "outputs": [],
   "source": []
  }
 ],
 "metadata": {
  "kernelspec": {
   "display_name": "Python 3 (ipykernel)",
   "language": "python",
   "name": "python3"
  },
  "language_info": {
   "codemirror_mode": {
    "name": "ipython",
    "version": 3
   },
   "file_extension": ".py",
   "mimetype": "text/x-python",
   "name": "python",
   "nbconvert_exporter": "python",
   "pygments_lexer": "ipython3",
   "version": "3.11.7"
  }
 },
 "nbformat": 4,
 "nbformat_minor": 5
}
